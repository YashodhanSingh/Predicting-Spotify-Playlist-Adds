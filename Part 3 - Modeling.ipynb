{
 "cells": [
  {
   "cell_type": "markdown",
   "metadata": {
    "colab_type": "text",
    "id": "Rrpt5-8VIR1f"
   },
   "source": [
    "# Predicting Spotify Playlist Adds \n",
    "\n",
    "## Part 3: Machine Learning and Predictive Modeling\n",
    "\n",
    "This notebook imports the datasets collected in Part 1, preprocesses the features and evaluates various methods to build a predictive model. Specifically, we'll develop a pipeline to predict the susceptability of an unheard song being added to either users' playlist. We'll focus on evaluating the accuraccy of the model and improving it through feature engineering."
   ]
  },
  {
   "cell_type": "code",
   "execution_count": 1,
   "metadata": {
    "colab": {
     "base_uri": "https://localhost:8080/",
     "height": 91
    },
    "colab_type": "code",
    "executionInfo": {
     "elapsed": 884,
     "status": "ok",
     "timestamp": 1585863299571,
     "user": {
      "displayName": "Taku Takamatsu",
      "photoUrl": "https://lh3.googleusercontent.com/a-/AOh14Gi1_v2qzxfwtRstCyYb0azc-dXw4_c_QCFspd1y=s64",
      "userId": "07848600862677236277"
     },
     "user_tz": 240
    },
    "id": "X8AGQFS0IR1h",
    "outputId": "423ccd11-c2ab-4e1d-c3f8-062257bc43c0",
    "scrolled": false
   },
   "outputs": [
    {
     "name": "stdout",
     "output_type": "stream",
     "text": [
      "Drive already mounted at /content/drive; to attempt to forcibly remount, call drive.mount(\"/content/drive\", force_remount=True).\n"
     ]
    },
    {
     "name": "stderr",
     "output_type": "stream",
     "text": [
      "/usr/local/lib/python3.6/dist-packages/statsmodels/tools/_testing.py:19: FutureWarning: pandas.util.testing is deprecated. Use the functions in the public API at pandas.testing instead.\n",
      "  import pandas.util.testing as tm\n"
     ]
    }
   ],
   "source": [
    "from google.colab import drive\n",
    "drive.mount('/content/drive')\n",
    "\n",
    "#import libraries\n",
    "import pandas as pd\n",
    "import numpy as np\n",
    "\n",
    "import matplotlib.pyplot as plt\n",
    "%matplotlib inline\n",
    "import seaborn as sns\n",
    "\n",
    "from sklearn.model_selection import train_test_split, cross_val_score, StratifiedKFold, GridSearchCV\n",
    "from sklearn.ensemble import RandomForestClassifier\n",
    "from sklearn.linear_model import LogisticRegression\n",
    "from category_encoders import OrdinalEncoder, OneHotEncoder\n",
    "from sklearn.preprocessing import StandardScaler\n",
    "from sklearn.pipeline import make_pipeline\n",
    "from sklearn.metrics import confusion_matrix, accuracy_score, classification_report\n",
    "from sklearn.decomposition import PCA\n",
    "from sklearn.utils import resample\n",
    "\n",
    "from ast import literal_eval\n",
    "\n",
    "import pickle\n",
    "\n",
    "#load datasets\n",
    "user_1 = pd.read_csv('/content/drive/My Drive/Colab Notebooks/GA Spotify Project/data/user_1.csv', converters={\"artist_name\": literal_eval, 'artist_id': literal_eval}) # to convert strings back into list\n",
    "user_2 = pd.read_csv('/content/drive/My Drive/Colab Notebooks/GA Spotify Project/data/user_2.csv', converters={'artist_name': literal_eval, 'artist_id': literal_eval})\n",
    "user_1_artist_info = pd.read_csv('/content/drive/My Drive/Colab Notebooks/GA Spotify Project/data/user_1_artist_info.csv', converters={'artist_genre': literal_eval})\n",
    "user_2_artist_info = pd.read_csv('/content/drive/My Drive/Colab Notebooks/GA Spotify Project/data/user_2_artist_info.csv', converters={'artist_genre': literal_eval})"
   ]
  },
  {
   "cell_type": "code",
   "execution_count": 2,
   "metadata": {
    "colab": {
     "base_uri": "https://localhost:8080/",
     "height": 275
    },
    "colab_type": "code",
    "executionInfo": {
     "elapsed": 686,
     "status": "ok",
     "timestamp": 1585863303349,
     "user": {
      "displayName": "Taku Takamatsu",
      "photoUrl": "https://lh3.googleusercontent.com/a-/AOh14Gi1_v2qzxfwtRstCyYb0azc-dXw4_c_QCFspd1y=s64",
      "userId": "07848600862677236277"
     },
     "user_tz": 240
    },
    "id": "A2lAytAmIR1o",
    "outputId": "5c252d1c-8c97-46eb-fcbb-78e687b8004d",
    "scrolled": true
   },
   "outputs": [
    {
     "data": {
      "text/html": [
       "<div>\n",
       "<style scoped>\n",
       "    .dataframe tbody tr th:only-of-type {\n",
       "        vertical-align: middle;\n",
       "    }\n",
       "\n",
       "    .dataframe tbody tr th {\n",
       "        vertical-align: top;\n",
       "    }\n",
       "\n",
       "    .dataframe thead th {\n",
       "        text-align: right;\n",
       "    }\n",
       "</style>\n",
       "<table border=\"1\" class=\"dataframe\">\n",
       "  <thead>\n",
       "    <tr style=\"text-align: right;\">\n",
       "      <th></th>\n",
       "      <th>track_id</th>\n",
       "      <th>track_name</th>\n",
       "      <th>artist_name</th>\n",
       "      <th>artist_id</th>\n",
       "      <th>release_date</th>\n",
       "      <th>album_type</th>\n",
       "      <th>popularity</th>\n",
       "      <th>danceability</th>\n",
       "      <th>energy</th>\n",
       "      <th>key</th>\n",
       "      <th>loudness</th>\n",
       "      <th>mode</th>\n",
       "      <th>speechiness</th>\n",
       "      <th>acousticness</th>\n",
       "      <th>instrumentalness</th>\n",
       "      <th>liveness</th>\n",
       "      <th>valence</th>\n",
       "      <th>tempo</th>\n",
       "      <th>duration_ms</th>\n",
       "      <th>time_signature</th>\n",
       "    </tr>\n",
       "  </thead>\n",
       "  <tbody>\n",
       "    <tr>\n",
       "      <th>0</th>\n",
       "      <td>0sR0deixp6xTZ5Yx9g0pr0</td>\n",
       "      <td>Release Me</td>\n",
       "      <td>[Miette Hope]</td>\n",
       "      <td>[4K61UysqQc1VRj8VsY76Qw]</td>\n",
       "      <td>2018-06-22</td>\n",
       "      <td>single</td>\n",
       "      <td>34</td>\n",
       "      <td>0.517</td>\n",
       "      <td>0.480</td>\n",
       "      <td>11</td>\n",
       "      <td>-7.944</td>\n",
       "      <td>0</td>\n",
       "      <td>0.0425</td>\n",
       "      <td>0.6830</td>\n",
       "      <td>0.000000</td>\n",
       "      <td>0.0760</td>\n",
       "      <td>0.539</td>\n",
       "      <td>134.012</td>\n",
       "      <td>212236</td>\n",
       "      <td>4</td>\n",
       "    </tr>\n",
       "    <tr>\n",
       "      <th>1</th>\n",
       "      <td>0doiRAg2YNQvamY6oMPwkw</td>\n",
       "      <td>Dancing in the Street</td>\n",
       "      <td>[Stephen Day]</td>\n",
       "      <td>[4cnFw4bkIWVGKUBsr93OS5]</td>\n",
       "      <td>2018-04-27</td>\n",
       "      <td>single</td>\n",
       "      <td>4</td>\n",
       "      <td>0.632</td>\n",
       "      <td>0.677</td>\n",
       "      <td>11</td>\n",
       "      <td>-8.105</td>\n",
       "      <td>1</td>\n",
       "      <td>0.0911</td>\n",
       "      <td>0.2630</td>\n",
       "      <td>0.000010</td>\n",
       "      <td>0.0977</td>\n",
       "      <td>0.512</td>\n",
       "      <td>119.763</td>\n",
       "      <td>199027</td>\n",
       "      <td>4</td>\n",
       "    </tr>\n",
       "    <tr>\n",
       "      <th>2</th>\n",
       "      <td>0NuIfPuBhUAt4aA4HP0rUu</td>\n",
       "      <td>You Seemed so Happy</td>\n",
       "      <td>[The Japanese House]</td>\n",
       "      <td>[3IunaFjvNKj98JW89JYv9u]</td>\n",
       "      <td>2019-03-01</td>\n",
       "      <td>album</td>\n",
       "      <td>53</td>\n",
       "      <td>0.519</td>\n",
       "      <td>0.888</td>\n",
       "      <td>11</td>\n",
       "      <td>-6.232</td>\n",
       "      <td>1</td>\n",
       "      <td>0.1170</td>\n",
       "      <td>0.0406</td>\n",
       "      <td>0.000000</td>\n",
       "      <td>0.2270</td>\n",
       "      <td>0.416</td>\n",
       "      <td>149.938</td>\n",
       "      <td>162486</td>\n",
       "      <td>4</td>\n",
       "    </tr>\n",
       "    <tr>\n",
       "      <th>3</th>\n",
       "      <td>5EXD5rXJ4IVb8g4xSwT0fc</td>\n",
       "      <td>If You Were the Rain</td>\n",
       "      <td>[Stephen Day]</td>\n",
       "      <td>[4cnFw4bkIWVGKUBsr93OS5]</td>\n",
       "      <td>2016-04-08</td>\n",
       "      <td>single</td>\n",
       "      <td>47</td>\n",
       "      <td>0.481</td>\n",
       "      <td>0.412</td>\n",
       "      <td>9</td>\n",
       "      <td>-8.413</td>\n",
       "      <td>1</td>\n",
       "      <td>0.0401</td>\n",
       "      <td>0.6110</td>\n",
       "      <td>0.000059</td>\n",
       "      <td>0.0998</td>\n",
       "      <td>0.326</td>\n",
       "      <td>84.358</td>\n",
       "      <td>220588</td>\n",
       "      <td>4</td>\n",
       "    </tr>\n",
       "    <tr>\n",
       "      <th>4</th>\n",
       "      <td>68ViVsxqymVrKMnAbVsEhU</td>\n",
       "      <td>Talking Slow</td>\n",
       "      <td>[Dylan Jordan]</td>\n",
       "      <td>[0vQwQkQbLxrapE7TG9o5SB]</td>\n",
       "      <td>2018-12-12</td>\n",
       "      <td>single</td>\n",
       "      <td>48</td>\n",
       "      <td>0.501</td>\n",
       "      <td>0.533</td>\n",
       "      <td>2</td>\n",
       "      <td>-10.110</td>\n",
       "      <td>1</td>\n",
       "      <td>0.0379</td>\n",
       "      <td>0.2020</td>\n",
       "      <td>0.002060</td>\n",
       "      <td>0.1130</td>\n",
       "      <td>0.151</td>\n",
       "      <td>138.920</td>\n",
       "      <td>259640</td>\n",
       "      <td>4</td>\n",
       "    </tr>\n",
       "  </tbody>\n",
       "</table>\n",
       "</div>"
      ],
      "text/plain": [
       "                 track_id             track_name  ... duration_ms time_signature\n",
       "0  0sR0deixp6xTZ5Yx9g0pr0             Release Me  ...      212236              4\n",
       "1  0doiRAg2YNQvamY6oMPwkw  Dancing in the Street  ...      199027              4\n",
       "2  0NuIfPuBhUAt4aA4HP0rUu    You Seemed so Happy  ...      162486              4\n",
       "3  5EXD5rXJ4IVb8g4xSwT0fc   If You Were the Rain  ...      220588              4\n",
       "4  68ViVsxqymVrKMnAbVsEhU           Talking Slow  ...      259640              4\n",
       "\n",
       "[5 rows x 20 columns]"
      ]
     },
     "execution_count": 2,
     "metadata": {
      "tags": []
     },
     "output_type": "execute_result"
    }
   ],
   "source": [
    "user_1.head()"
   ]
  },
  {
   "cell_type": "code",
   "execution_count": 3,
   "metadata": {
    "colab": {
     "base_uri": "https://localhost:8080/",
     "height": 292
    },
    "colab_type": "code",
    "executionInfo": {
     "elapsed": 847,
     "status": "ok",
     "timestamp": 1585863304963,
     "user": {
      "displayName": "Taku Takamatsu",
      "photoUrl": "https://lh3.googleusercontent.com/a-/AOh14Gi1_v2qzxfwtRstCyYb0azc-dXw4_c_QCFspd1y=s64",
      "userId": "07848600862677236277"
     },
     "user_tz": 240
    },
    "id": "r1B-lO0sIR1v",
    "outputId": "f6b728f8-0db2-427c-fc86-0f3e506272bc"
   },
   "outputs": [
    {
     "data": {
      "text/html": [
       "<div>\n",
       "<style scoped>\n",
       "    .dataframe tbody tr th:only-of-type {\n",
       "        vertical-align: middle;\n",
       "    }\n",
       "\n",
       "    .dataframe tbody tr th {\n",
       "        vertical-align: top;\n",
       "    }\n",
       "\n",
       "    .dataframe thead th {\n",
       "        text-align: right;\n",
       "    }\n",
       "</style>\n",
       "<table border=\"1\" class=\"dataframe\">\n",
       "  <thead>\n",
       "    <tr style=\"text-align: right;\">\n",
       "      <th></th>\n",
       "      <th>track_id</th>\n",
       "      <th>track_name</th>\n",
       "      <th>artist_name</th>\n",
       "      <th>artist_id</th>\n",
       "      <th>release_date</th>\n",
       "      <th>album_type</th>\n",
       "      <th>popularity</th>\n",
       "      <th>danceability</th>\n",
       "      <th>energy</th>\n",
       "      <th>key</th>\n",
       "      <th>loudness</th>\n",
       "      <th>mode</th>\n",
       "      <th>speechiness</th>\n",
       "      <th>acousticness</th>\n",
       "      <th>instrumentalness</th>\n",
       "      <th>liveness</th>\n",
       "      <th>valence</th>\n",
       "      <th>tempo</th>\n",
       "      <th>duration_ms</th>\n",
       "      <th>time_signature</th>\n",
       "    </tr>\n",
       "  </thead>\n",
       "  <tbody>\n",
       "    <tr>\n",
       "      <th>0</th>\n",
       "      <td>01c9sDv4paB121N6l2BFKY</td>\n",
       "      <td>Babylon</td>\n",
       "      <td>[Jauz, Tisoki]</td>\n",
       "      <td>[5ttgIeUVka6FLyi00Uu5h8, 0XW7mqhbaQnRtHmwfAVg64]</td>\n",
       "      <td>2018-08-31</td>\n",
       "      <td>album</td>\n",
       "      <td>35</td>\n",
       "      <td>0.611</td>\n",
       "      <td>0.920</td>\n",
       "      <td>1</td>\n",
       "      <td>-3.531</td>\n",
       "      <td>1</td>\n",
       "      <td>0.1440</td>\n",
       "      <td>0.0232</td>\n",
       "      <td>0.00150</td>\n",
       "      <td>0.1470</td>\n",
       "      <td>0.451</td>\n",
       "      <td>145.005</td>\n",
       "      <td>293000</td>\n",
       "      <td>4</td>\n",
       "    </tr>\n",
       "    <tr>\n",
       "      <th>1</th>\n",
       "      <td>48iZQ89FuDSmqRk1AjRcrP</td>\n",
       "      <td>OK!</td>\n",
       "      <td>[Jauz, San Holo]</td>\n",
       "      <td>[5ttgIeUVka6FLyi00Uu5h8, 0jNDKefhfSbLR9sFvcPLHo]</td>\n",
       "      <td>2016-10-10</td>\n",
       "      <td>single</td>\n",
       "      <td>42</td>\n",
       "      <td>0.615</td>\n",
       "      <td>0.885</td>\n",
       "      <td>10</td>\n",
       "      <td>-3.281</td>\n",
       "      <td>0</td>\n",
       "      <td>0.0397</td>\n",
       "      <td>0.0174</td>\n",
       "      <td>0.00422</td>\n",
       "      <td>0.1010</td>\n",
       "      <td>0.112</td>\n",
       "      <td>127.939</td>\n",
       "      <td>188438</td>\n",
       "      <td>4</td>\n",
       "    </tr>\n",
       "    <tr>\n",
       "      <th>2</th>\n",
       "      <td>6DlpWCFx1fsv0LCa3AQ81D</td>\n",
       "      <td>Infected</td>\n",
       "      <td>[Tiësto, Jauz]</td>\n",
       "      <td>[2o5jDhtHVPhrJdv3cEQ99Z, 5ttgIeUVka6FLyi00Uu5h8]</td>\n",
       "      <td>2016-07-15</td>\n",
       "      <td>single</td>\n",
       "      <td>43</td>\n",
       "      <td>0.605</td>\n",
       "      <td>0.974</td>\n",
       "      <td>5</td>\n",
       "      <td>-3.996</td>\n",
       "      <td>0</td>\n",
       "      <td>0.1690</td>\n",
       "      <td>0.0764</td>\n",
       "      <td>0.31200</td>\n",
       "      <td>0.1280</td>\n",
       "      <td>0.082</td>\n",
       "      <td>128.030</td>\n",
       "      <td>225000</td>\n",
       "      <td>4</td>\n",
       "    </tr>\n",
       "    <tr>\n",
       "      <th>3</th>\n",
       "      <td>03IxJiB8ZOH9hEQZF5mCNY</td>\n",
       "      <td>Feel The Volume</td>\n",
       "      <td>[Jauz]</td>\n",
       "      <td>[5ttgIeUVka6FLyi00Uu5h8]</td>\n",
       "      <td>2014-11-11</td>\n",
       "      <td>single</td>\n",
       "      <td>55</td>\n",
       "      <td>0.725</td>\n",
       "      <td>0.918</td>\n",
       "      <td>10</td>\n",
       "      <td>-4.912</td>\n",
       "      <td>0</td>\n",
       "      <td>0.0676</td>\n",
       "      <td>0.1530</td>\n",
       "      <td>0.03280</td>\n",
       "      <td>0.1130</td>\n",
       "      <td>0.201</td>\n",
       "      <td>125.009</td>\n",
       "      <td>230400</td>\n",
       "      <td>4</td>\n",
       "    </tr>\n",
       "    <tr>\n",
       "      <th>4</th>\n",
       "      <td>4BNWc6VNhfANsYMeTxGw4R</td>\n",
       "      <td>Get To Me</td>\n",
       "      <td>[Jauz]</td>\n",
       "      <td>[5ttgIeUVka6FLyi00Uu5h8]</td>\n",
       "      <td>2019-10-11</td>\n",
       "      <td>single</td>\n",
       "      <td>46</td>\n",
       "      <td>0.574</td>\n",
       "      <td>0.899</td>\n",
       "      <td>1</td>\n",
       "      <td>-3.619</td>\n",
       "      <td>1</td>\n",
       "      <td>0.0483</td>\n",
       "      <td>0.3210</td>\n",
       "      <td>0.00000</td>\n",
       "      <td>0.0927</td>\n",
       "      <td>0.387</td>\n",
       "      <td>128.060</td>\n",
       "      <td>256875</td>\n",
       "      <td>4</td>\n",
       "    </tr>\n",
       "  </tbody>\n",
       "</table>\n",
       "</div>"
      ],
      "text/plain": [
       "                 track_id       track_name  ... duration_ms time_signature\n",
       "0  01c9sDv4paB121N6l2BFKY          Babylon  ...      293000              4\n",
       "1  48iZQ89FuDSmqRk1AjRcrP              OK!  ...      188438              4\n",
       "2  6DlpWCFx1fsv0LCa3AQ81D         Infected  ...      225000              4\n",
       "3  03IxJiB8ZOH9hEQZF5mCNY  Feel The Volume  ...      230400              4\n",
       "4  4BNWc6VNhfANsYMeTxGw4R        Get To Me  ...      256875              4\n",
       "\n",
       "[5 rows x 20 columns]"
      ]
     },
     "execution_count": 3,
     "metadata": {
      "tags": []
     },
     "output_type": "execute_result"
    }
   ],
   "source": [
    "user_2.head()"
   ]
  },
  {
   "cell_type": "code",
   "execution_count": 4,
   "metadata": {
    "colab": {
     "base_uri": "https://localhost:8080/",
     "height": 204
    },
    "colab_type": "code",
    "executionInfo": {
     "elapsed": 2620,
     "status": "ok",
     "timestamp": 1585863307469,
     "user": {
      "displayName": "Taku Takamatsu",
      "photoUrl": "https://lh3.googleusercontent.com/a-/AOh14Gi1_v2qzxfwtRstCyYb0azc-dXw4_c_QCFspd1y=s64",
      "userId": "07848600862677236277"
     },
     "user_tz": 240
    },
    "id": "J6EqY4aOIR11",
    "outputId": "34e4de74-a8ad-43f4-e595-ab02a6e95268"
   },
   "outputs": [
    {
     "data": {
      "text/html": [
       "<div>\n",
       "<style scoped>\n",
       "    .dataframe tbody tr th:only-of-type {\n",
       "        vertical-align: middle;\n",
       "    }\n",
       "\n",
       "    .dataframe tbody tr th {\n",
       "        vertical-align: top;\n",
       "    }\n",
       "\n",
       "    .dataframe thead th {\n",
       "        text-align: right;\n",
       "    }\n",
       "</style>\n",
       "<table border=\"1\" class=\"dataframe\">\n",
       "  <thead>\n",
       "    <tr style=\"text-align: right;\">\n",
       "      <th></th>\n",
       "      <th>artist_id</th>\n",
       "      <th>artist_genre</th>\n",
       "      <th>artist_follower_count</th>\n",
       "    </tr>\n",
       "  </thead>\n",
       "  <tbody>\n",
       "    <tr>\n",
       "      <th>0</th>\n",
       "      <td>4K61UysqQc1VRj8VsY76Qw</td>\n",
       "      <td>[]</td>\n",
       "      <td>7547</td>\n",
       "    </tr>\n",
       "    <tr>\n",
       "      <th>1</th>\n",
       "      <td>4cnFw4bkIWVGKUBsr93OS5</td>\n",
       "      <td>[indie cafe pop, indie r&amp;b, indiecoustica]</td>\n",
       "      <td>20710</td>\n",
       "    </tr>\n",
       "    <tr>\n",
       "      <th>2</th>\n",
       "      <td>3IunaFjvNKj98JW89JYv9u</td>\n",
       "      <td>[art pop, electropop, indie pop, indie poptimi...</td>\n",
       "      <td>351533</td>\n",
       "    </tr>\n",
       "    <tr>\n",
       "      <th>3</th>\n",
       "      <td>0vQwQkQbLxrapE7TG9o5SB</td>\n",
       "      <td>[]</td>\n",
       "      <td>21188</td>\n",
       "    </tr>\n",
       "    <tr>\n",
       "      <th>4</th>\n",
       "      <td>5dCvSnVduaFleCnyy98JMo</td>\n",
       "      <td>[k-indie, k-pop, korean pop, korean r&amp;b]</td>\n",
       "      <td>428238</td>\n",
       "    </tr>\n",
       "  </tbody>\n",
       "</table>\n",
       "</div>"
      ],
      "text/plain": [
       "                artist_id  ... artist_follower_count\n",
       "0  4K61UysqQc1VRj8VsY76Qw  ...                  7547\n",
       "1  4cnFw4bkIWVGKUBsr93OS5  ...                 20710\n",
       "2  3IunaFjvNKj98JW89JYv9u  ...                351533\n",
       "3  0vQwQkQbLxrapE7TG9o5SB  ...                 21188\n",
       "4  5dCvSnVduaFleCnyy98JMo  ...                428238\n",
       "\n",
       "[5 rows x 3 columns]"
      ]
     },
     "execution_count": 4,
     "metadata": {
      "tags": []
     },
     "output_type": "execute_result"
    }
   ],
   "source": [
    "user_1_artist_info.head()"
   ]
  },
  {
   "cell_type": "code",
   "execution_count": 5,
   "metadata": {
    "colab": {
     "base_uri": "https://localhost:8080/",
     "height": 204
    },
    "colab_type": "code",
    "executionInfo": {
     "elapsed": 2362,
     "status": "ok",
     "timestamp": 1585863307473,
     "user": {
      "displayName": "Taku Takamatsu",
      "photoUrl": "https://lh3.googleusercontent.com/a-/AOh14Gi1_v2qzxfwtRstCyYb0azc-dXw4_c_QCFspd1y=s64",
      "userId": "07848600862677236277"
     },
     "user_tz": 240
    },
    "id": "l55esv0WIR17",
    "outputId": "28174a6c-828e-4135-f664-f699587e23a4"
   },
   "outputs": [
    {
     "data": {
      "text/html": [
       "<div>\n",
       "<style scoped>\n",
       "    .dataframe tbody tr th:only-of-type {\n",
       "        vertical-align: middle;\n",
       "    }\n",
       "\n",
       "    .dataframe tbody tr th {\n",
       "        vertical-align: top;\n",
       "    }\n",
       "\n",
       "    .dataframe thead th {\n",
       "        text-align: right;\n",
       "    }\n",
       "</style>\n",
       "<table border=\"1\" class=\"dataframe\">\n",
       "  <thead>\n",
       "    <tr style=\"text-align: right;\">\n",
       "      <th></th>\n",
       "      <th>artist_id</th>\n",
       "      <th>artist_genre</th>\n",
       "      <th>artist_follower_count</th>\n",
       "    </tr>\n",
       "  </thead>\n",
       "  <tbody>\n",
       "    <tr>\n",
       "      <th>0</th>\n",
       "      <td>5ttgIeUVka6FLyi00Uu5h8</td>\n",
       "      <td>[bass house, brostep, edm, electro house, elec...</td>\n",
       "      <td>325977</td>\n",
       "    </tr>\n",
       "    <tr>\n",
       "      <th>1</th>\n",
       "      <td>0XW7mqhbaQnRtHmwfAVg64</td>\n",
       "      <td>[brostep, electro house, electronic trap, zaps...</td>\n",
       "      <td>37132</td>\n",
       "    </tr>\n",
       "    <tr>\n",
       "      <th>2</th>\n",
       "      <td>0jNDKefhfSbLR9sFvcPLHo</td>\n",
       "      <td>[edm, electro house, electronic trap, electrop...</td>\n",
       "      <td>550744</td>\n",
       "    </tr>\n",
       "    <tr>\n",
       "      <th>3</th>\n",
       "      <td>2o5jDhtHVPhrJdv3cEQ99Z</td>\n",
       "      <td>[big room, brostep, dance pop, dutch edm, edm,...</td>\n",
       "      <td>4935665</td>\n",
       "    </tr>\n",
       "    <tr>\n",
       "      <th>4</th>\n",
       "      <td>548YUkLaLzti0BLqaWpn1W</td>\n",
       "      <td>[bass house, brostep, electro house, electroni...</td>\n",
       "      <td>43906</td>\n",
       "    </tr>\n",
       "  </tbody>\n",
       "</table>\n",
       "</div>"
      ],
      "text/plain": [
       "                artist_id  ... artist_follower_count\n",
       "0  5ttgIeUVka6FLyi00Uu5h8  ...                325977\n",
       "1  0XW7mqhbaQnRtHmwfAVg64  ...                 37132\n",
       "2  0jNDKefhfSbLR9sFvcPLHo  ...                550744\n",
       "3  2o5jDhtHVPhrJdv3cEQ99Z  ...               4935665\n",
       "4  548YUkLaLzti0BLqaWpn1W  ...                 43906\n",
       "\n",
       "[5 rows x 3 columns]"
      ]
     },
     "execution_count": 5,
     "metadata": {
      "tags": []
     },
     "output_type": "execute_result"
    }
   ],
   "source": [
    "user_2_artist_info.head()"
   ]
  },
  {
   "cell_type": "markdown",
   "metadata": {
    "colab_type": "text",
    "id": "6W1io-OnIR2B"
   },
   "source": [
    "### Preparing our data for modeling\n",
    "Let's begin by concatenating the two datasets, creating an additional column that separates the two users."
   ]
  },
  {
   "cell_type": "code",
   "execution_count": 6,
   "metadata": {
    "colab": {
     "base_uri": "https://localhost:8080/",
     "height": 275
    },
    "colab_type": "code",
    "executionInfo": {
     "elapsed": 1861,
     "status": "ok",
     "timestamp": 1585863307475,
     "user": {
      "displayName": "Taku Takamatsu",
      "photoUrl": "https://lh3.googleusercontent.com/a-/AOh14Gi1_v2qzxfwtRstCyYb0azc-dXw4_c_QCFspd1y=s64",
      "userId": "07848600862677236277"
     },
     "user_tz": 240
    },
    "id": "CK-1PqChIR2C",
    "outputId": "2af0a184-04a5-4a3d-e390-5826457ca12a",
    "scrolled": false
   },
   "outputs": [
    {
     "data": {
      "text/html": [
       "<div>\n",
       "<style scoped>\n",
       "    .dataframe tbody tr th:only-of-type {\n",
       "        vertical-align: middle;\n",
       "    }\n",
       "\n",
       "    .dataframe tbody tr th {\n",
       "        vertical-align: top;\n",
       "    }\n",
       "\n",
       "    .dataframe thead th {\n",
       "        text-align: right;\n",
       "    }\n",
       "</style>\n",
       "<table border=\"1\" class=\"dataframe\">\n",
       "  <thead>\n",
       "    <tr style=\"text-align: right;\">\n",
       "      <th></th>\n",
       "      <th>track_id</th>\n",
       "      <th>track_name</th>\n",
       "      <th>artist_name</th>\n",
       "      <th>artist_id</th>\n",
       "      <th>release_date</th>\n",
       "      <th>album_type</th>\n",
       "      <th>popularity</th>\n",
       "      <th>danceability</th>\n",
       "      <th>energy</th>\n",
       "      <th>key</th>\n",
       "      <th>loudness</th>\n",
       "      <th>mode</th>\n",
       "      <th>speechiness</th>\n",
       "      <th>acousticness</th>\n",
       "      <th>instrumentalness</th>\n",
       "      <th>liveness</th>\n",
       "      <th>valence</th>\n",
       "      <th>tempo</th>\n",
       "      <th>duration_ms</th>\n",
       "      <th>time_signature</th>\n",
       "      <th>user_group</th>\n",
       "    </tr>\n",
       "  </thead>\n",
       "  <tbody>\n",
       "    <tr>\n",
       "      <th>0</th>\n",
       "      <td>0sR0deixp6xTZ5Yx9g0pr0</td>\n",
       "      <td>Release Me</td>\n",
       "      <td>[Miette Hope]</td>\n",
       "      <td>[4K61UysqQc1VRj8VsY76Qw]</td>\n",
       "      <td>2018-06-22</td>\n",
       "      <td>single</td>\n",
       "      <td>34</td>\n",
       "      <td>0.517</td>\n",
       "      <td>0.480</td>\n",
       "      <td>11</td>\n",
       "      <td>-7.944</td>\n",
       "      <td>0</td>\n",
       "      <td>0.0425</td>\n",
       "      <td>0.6830</td>\n",
       "      <td>0.000000</td>\n",
       "      <td>0.0760</td>\n",
       "      <td>0.539</td>\n",
       "      <td>134.012</td>\n",
       "      <td>212236</td>\n",
       "      <td>4</td>\n",
       "      <td>1</td>\n",
       "    </tr>\n",
       "    <tr>\n",
       "      <th>1</th>\n",
       "      <td>0doiRAg2YNQvamY6oMPwkw</td>\n",
       "      <td>Dancing in the Street</td>\n",
       "      <td>[Stephen Day]</td>\n",
       "      <td>[4cnFw4bkIWVGKUBsr93OS5]</td>\n",
       "      <td>2018-04-27</td>\n",
       "      <td>single</td>\n",
       "      <td>4</td>\n",
       "      <td>0.632</td>\n",
       "      <td>0.677</td>\n",
       "      <td>11</td>\n",
       "      <td>-8.105</td>\n",
       "      <td>1</td>\n",
       "      <td>0.0911</td>\n",
       "      <td>0.2630</td>\n",
       "      <td>0.000010</td>\n",
       "      <td>0.0977</td>\n",
       "      <td>0.512</td>\n",
       "      <td>119.763</td>\n",
       "      <td>199027</td>\n",
       "      <td>4</td>\n",
       "      <td>1</td>\n",
       "    </tr>\n",
       "    <tr>\n",
       "      <th>2</th>\n",
       "      <td>0NuIfPuBhUAt4aA4HP0rUu</td>\n",
       "      <td>You Seemed so Happy</td>\n",
       "      <td>[The Japanese House]</td>\n",
       "      <td>[3IunaFjvNKj98JW89JYv9u]</td>\n",
       "      <td>2019-03-01</td>\n",
       "      <td>album</td>\n",
       "      <td>53</td>\n",
       "      <td>0.519</td>\n",
       "      <td>0.888</td>\n",
       "      <td>11</td>\n",
       "      <td>-6.232</td>\n",
       "      <td>1</td>\n",
       "      <td>0.1170</td>\n",
       "      <td>0.0406</td>\n",
       "      <td>0.000000</td>\n",
       "      <td>0.2270</td>\n",
       "      <td>0.416</td>\n",
       "      <td>149.938</td>\n",
       "      <td>162486</td>\n",
       "      <td>4</td>\n",
       "      <td>1</td>\n",
       "    </tr>\n",
       "    <tr>\n",
       "      <th>3</th>\n",
       "      <td>5EXD5rXJ4IVb8g4xSwT0fc</td>\n",
       "      <td>If You Were the Rain</td>\n",
       "      <td>[Stephen Day]</td>\n",
       "      <td>[4cnFw4bkIWVGKUBsr93OS5]</td>\n",
       "      <td>2016-04-08</td>\n",
       "      <td>single</td>\n",
       "      <td>47</td>\n",
       "      <td>0.481</td>\n",
       "      <td>0.412</td>\n",
       "      <td>9</td>\n",
       "      <td>-8.413</td>\n",
       "      <td>1</td>\n",
       "      <td>0.0401</td>\n",
       "      <td>0.6110</td>\n",
       "      <td>0.000059</td>\n",
       "      <td>0.0998</td>\n",
       "      <td>0.326</td>\n",
       "      <td>84.358</td>\n",
       "      <td>220588</td>\n",
       "      <td>4</td>\n",
       "      <td>1</td>\n",
       "    </tr>\n",
       "    <tr>\n",
       "      <th>4</th>\n",
       "      <td>68ViVsxqymVrKMnAbVsEhU</td>\n",
       "      <td>Talking Slow</td>\n",
       "      <td>[Dylan Jordan]</td>\n",
       "      <td>[0vQwQkQbLxrapE7TG9o5SB]</td>\n",
       "      <td>2018-12-12</td>\n",
       "      <td>single</td>\n",
       "      <td>48</td>\n",
       "      <td>0.501</td>\n",
       "      <td>0.533</td>\n",
       "      <td>2</td>\n",
       "      <td>-10.110</td>\n",
       "      <td>1</td>\n",
       "      <td>0.0379</td>\n",
       "      <td>0.2020</td>\n",
       "      <td>0.002060</td>\n",
       "      <td>0.1130</td>\n",
       "      <td>0.151</td>\n",
       "      <td>138.920</td>\n",
       "      <td>259640</td>\n",
       "      <td>4</td>\n",
       "      <td>1</td>\n",
       "    </tr>\n",
       "  </tbody>\n",
       "</table>\n",
       "</div>"
      ],
      "text/plain": [
       "                 track_id             track_name  ... time_signature user_group\n",
       "0  0sR0deixp6xTZ5Yx9g0pr0             Release Me  ...              4          1\n",
       "1  0doiRAg2YNQvamY6oMPwkw  Dancing in the Street  ...              4          1\n",
       "2  0NuIfPuBhUAt4aA4HP0rUu    You Seemed so Happy  ...              4          1\n",
       "3  5EXD5rXJ4IVb8g4xSwT0fc   If You Were the Rain  ...              4          1\n",
       "4  68ViVsxqymVrKMnAbVsEhU           Talking Slow  ...              4          1\n",
       "\n",
       "[5 rows x 21 columns]"
      ]
     },
     "execution_count": 6,
     "metadata": {
      "tags": []
     },
     "output_type": "execute_result"
    }
   ],
   "source": [
    "user_1['user_group'] = 1\n",
    "user_2['user_group'] = 0\n",
    "\n",
    "spotify_df = pd.concat([user_1, user_2])\n",
    "spotify_df.head()"
   ]
  },
  {
   "cell_type": "code",
   "execution_count": 7,
   "metadata": {
    "colab": {
     "base_uri": "https://localhost:8080/",
     "height": 224
    },
    "colab_type": "code",
    "executionInfo": {
     "elapsed": 1564,
     "status": "ok",
     "timestamp": 1585863307477,
     "user": {
      "displayName": "Taku Takamatsu",
      "photoUrl": "https://lh3.googleusercontent.com/a-/AOh14Gi1_v2qzxfwtRstCyYb0azc-dXw4_c_QCFspd1y=s64",
      "userId": "07848600862677236277"
     },
     "user_tz": 240
    },
    "id": "_iAVovbMIR2J",
    "outputId": "3d98c441-92d0-4bfa-bdd3-1d5bedeff754",
    "scrolled": true
   },
   "outputs": [
    {
     "data": {
      "text/html": [
       "<div>\n",
       "<style scoped>\n",
       "    .dataframe tbody tr th:only-of-type {\n",
       "        vertical-align: middle;\n",
       "    }\n",
       "\n",
       "    .dataframe tbody tr th {\n",
       "        vertical-align: top;\n",
       "    }\n",
       "\n",
       "    .dataframe thead th {\n",
       "        text-align: right;\n",
       "    }\n",
       "</style>\n",
       "<table border=\"1\" class=\"dataframe\">\n",
       "  <thead>\n",
       "    <tr style=\"text-align: right;\">\n",
       "      <th></th>\n",
       "      <th>track_id</th>\n",
       "      <th>artist_id</th>\n",
       "      <th>release_date</th>\n",
       "      <th>album_type</th>\n",
       "      <th>popularity</th>\n",
       "      <th>danceability</th>\n",
       "      <th>energy</th>\n",
       "      <th>key</th>\n",
       "      <th>loudness</th>\n",
       "      <th>mode</th>\n",
       "      <th>speechiness</th>\n",
       "      <th>acousticness</th>\n",
       "      <th>instrumentalness</th>\n",
       "      <th>liveness</th>\n",
       "      <th>valence</th>\n",
       "      <th>tempo</th>\n",
       "      <th>duration_ms</th>\n",
       "      <th>time_signature</th>\n",
       "      <th>user_group</th>\n",
       "    </tr>\n",
       "  </thead>\n",
       "  <tbody>\n",
       "    <tr>\n",
       "      <th>0</th>\n",
       "      <td>0sR0deixp6xTZ5Yx9g0pr0</td>\n",
       "      <td>[4K61UysqQc1VRj8VsY76Qw]</td>\n",
       "      <td>2018-06-22</td>\n",
       "      <td>single</td>\n",
       "      <td>34</td>\n",
       "      <td>0.517</td>\n",
       "      <td>0.480</td>\n",
       "      <td>11</td>\n",
       "      <td>-7.944</td>\n",
       "      <td>0</td>\n",
       "      <td>0.0425</td>\n",
       "      <td>0.6830</td>\n",
       "      <td>0.000000</td>\n",
       "      <td>0.0760</td>\n",
       "      <td>0.539</td>\n",
       "      <td>134.012</td>\n",
       "      <td>212236</td>\n",
       "      <td>4</td>\n",
       "      <td>1</td>\n",
       "    </tr>\n",
       "    <tr>\n",
       "      <th>1</th>\n",
       "      <td>0doiRAg2YNQvamY6oMPwkw</td>\n",
       "      <td>[4cnFw4bkIWVGKUBsr93OS5]</td>\n",
       "      <td>2018-04-27</td>\n",
       "      <td>single</td>\n",
       "      <td>4</td>\n",
       "      <td>0.632</td>\n",
       "      <td>0.677</td>\n",
       "      <td>11</td>\n",
       "      <td>-8.105</td>\n",
       "      <td>1</td>\n",
       "      <td>0.0911</td>\n",
       "      <td>0.2630</td>\n",
       "      <td>0.000010</td>\n",
       "      <td>0.0977</td>\n",
       "      <td>0.512</td>\n",
       "      <td>119.763</td>\n",
       "      <td>199027</td>\n",
       "      <td>4</td>\n",
       "      <td>1</td>\n",
       "    </tr>\n",
       "    <tr>\n",
       "      <th>2</th>\n",
       "      <td>0NuIfPuBhUAt4aA4HP0rUu</td>\n",
       "      <td>[3IunaFjvNKj98JW89JYv9u]</td>\n",
       "      <td>2019-03-01</td>\n",
       "      <td>album</td>\n",
       "      <td>53</td>\n",
       "      <td>0.519</td>\n",
       "      <td>0.888</td>\n",
       "      <td>11</td>\n",
       "      <td>-6.232</td>\n",
       "      <td>1</td>\n",
       "      <td>0.1170</td>\n",
       "      <td>0.0406</td>\n",
       "      <td>0.000000</td>\n",
       "      <td>0.2270</td>\n",
       "      <td>0.416</td>\n",
       "      <td>149.938</td>\n",
       "      <td>162486</td>\n",
       "      <td>4</td>\n",
       "      <td>1</td>\n",
       "    </tr>\n",
       "    <tr>\n",
       "      <th>3</th>\n",
       "      <td>5EXD5rXJ4IVb8g4xSwT0fc</td>\n",
       "      <td>[4cnFw4bkIWVGKUBsr93OS5]</td>\n",
       "      <td>2016-04-08</td>\n",
       "      <td>single</td>\n",
       "      <td>47</td>\n",
       "      <td>0.481</td>\n",
       "      <td>0.412</td>\n",
       "      <td>9</td>\n",
       "      <td>-8.413</td>\n",
       "      <td>1</td>\n",
       "      <td>0.0401</td>\n",
       "      <td>0.6110</td>\n",
       "      <td>0.000059</td>\n",
       "      <td>0.0998</td>\n",
       "      <td>0.326</td>\n",
       "      <td>84.358</td>\n",
       "      <td>220588</td>\n",
       "      <td>4</td>\n",
       "      <td>1</td>\n",
       "    </tr>\n",
       "    <tr>\n",
       "      <th>4</th>\n",
       "      <td>68ViVsxqymVrKMnAbVsEhU</td>\n",
       "      <td>[0vQwQkQbLxrapE7TG9o5SB]</td>\n",
       "      <td>2018-12-12</td>\n",
       "      <td>single</td>\n",
       "      <td>48</td>\n",
       "      <td>0.501</td>\n",
       "      <td>0.533</td>\n",
       "      <td>2</td>\n",
       "      <td>-10.110</td>\n",
       "      <td>1</td>\n",
       "      <td>0.0379</td>\n",
       "      <td>0.2020</td>\n",
       "      <td>0.002060</td>\n",
       "      <td>0.1130</td>\n",
       "      <td>0.151</td>\n",
       "      <td>138.920</td>\n",
       "      <td>259640</td>\n",
       "      <td>4</td>\n",
       "      <td>1</td>\n",
       "    </tr>\n",
       "  </tbody>\n",
       "</table>\n",
       "</div>"
      ],
      "text/plain": [
       "                 track_id                 artist_id  ... time_signature user_group\n",
       "0  0sR0deixp6xTZ5Yx9g0pr0  [4K61UysqQc1VRj8VsY76Qw]  ...              4          1\n",
       "1  0doiRAg2YNQvamY6oMPwkw  [4cnFw4bkIWVGKUBsr93OS5]  ...              4          1\n",
       "2  0NuIfPuBhUAt4aA4HP0rUu  [3IunaFjvNKj98JW89JYv9u]  ...              4          1\n",
       "3  5EXD5rXJ4IVb8g4xSwT0fc  [4cnFw4bkIWVGKUBsr93OS5]  ...              4          1\n",
       "4  68ViVsxqymVrKMnAbVsEhU  [0vQwQkQbLxrapE7TG9o5SB]  ...              4          1\n",
       "\n",
       "[5 rows x 19 columns]"
      ]
     },
     "execution_count": 7,
     "metadata": {
      "tags": []
     },
     "output_type": "execute_result"
    }
   ],
   "source": [
    "#first of all, track name and id, as well as artist name and id represent the same information\n",
    "#we can begin by removing those two columns as they'll result in multicollinearity \n",
    "remove_lst = ['track_name', 'artist_name']\n",
    "spotify_col = [col for col in spotify_df.columns.to_list() if col not in remove_lst]\n",
    "spotify_df = spotify_df[spotify_col]\n",
    "spotify_df.head()"
   ]
  },
  {
   "cell_type": "code",
   "execution_count": 8,
   "metadata": {
    "colab": {
     "base_uri": "https://localhost:8080/",
     "height": 35
    },
    "colab_type": "code",
    "executionInfo": {
     "elapsed": 1589,
     "status": "ok",
     "timestamp": 1585863307956,
     "user": {
      "displayName": "Taku Takamatsu",
      "photoUrl": "https://lh3.googleusercontent.com/a-/AOh14Gi1_v2qzxfwtRstCyYb0azc-dXw4_c_QCFspd1y=s64",
      "userId": "07848600862677236277"
     },
     "user_tz": 240
    },
    "id": "r4k_9e1QIR2T",
    "outputId": "c0f4c169-54d0-4116-d3f4-ba09e2aaea99",
    "scrolled": true
   },
   "outputs": [
    {
     "data": {
      "text/plain": [
       "(3951, 19)"
      ]
     },
     "execution_count": 8,
     "metadata": {
      "tags": []
     },
     "output_type": "execute_result"
    }
   ],
   "source": [
    "spotify_df.shape"
   ]
  },
  {
   "cell_type": "markdown",
   "metadata": {
    "colab_type": "text",
    "id": "gVB-YF7zIR2Z"
   },
   "source": [
    "#### Feature Engineering\n",
    "To build a prediction model, data must be numeric ==> we should encode all categorical variables\n"
   ]
  },
  {
   "cell_type": "code",
   "execution_count": 0,
   "metadata": {
    "colab": {},
    "colab_type": "code",
    "id": "jP4eVtQPIR2a"
   },
   "outputs": [],
   "source": [
    "#for the mode, we'll rename the values so that 1 is 'major' and 0 is 'minor' \n",
    "#--> this is so that we can one-hot-encode during preprocessing\n",
    "spotify_df['mode'] = np.where(spotify_df['mode'] == 1, 'Major', \"Minor\")"
   ]
  },
  {
   "cell_type": "code",
   "execution_count": 0,
   "metadata": {
    "colab": {},
    "colab_type": "code",
    "id": "p3kxXZzhIR2g"
   },
   "outputs": [],
   "source": [
    "#key, mode time_signatures are categorical values, so we'll transform them into strings to one-hot-encode\n",
    "spotify_df['key'] = spotify_df['key'].astype(str)\n",
    "spotify_df['time_signature'] = spotify_df['time_signature'].astype(str)"
   ]
  },
  {
   "cell_type": "code",
   "execution_count": 0,
   "metadata": {
    "colab": {},
    "colab_type": "code",
    "id": "AX-ZuSHuIR2u"
   },
   "outputs": [],
   "source": [
    "#we should figure out what to do with the release_date as we can't parse date-time objects into a model\n",
    "#we could separate out year, month and date into individual columns \n",
    "spotify_df['release_date'] = pd.to_datetime(spotify_df['release_date'])\n",
    "spotify_df['release_date_day'] = spotify_df['release_date'].dt.day\n",
    "spotify_df['release_date_month'] = spotify_df['release_date'].dt.month\n",
    "spotify_df['release_date_year'] = spotify_df['release_date'].dt.year\n",
    "\n",
    "#we could also create a column to identify what week and day of the week a track was released\n",
    "spotify_df['release_date_dayofweek'] = spotify_df['release_date'].dt.dayofweek\n",
    "spotify_df['release_date_week'] = spotify_df['release_date'].dt.week\n",
    "\n",
    "#drop the original release_date\n",
    "spotify_df.drop('release_date', axis=1, inplace=True)"
   ]
  },
  {
   "cell_type": "markdown",
   "metadata": {
    "colab_type": "text",
    "id": "4IMiE9ekIR3C"
   },
   "source": [
    "Release date would not usually come into consideration when we listen to music - especially what day of the week a track came out, etc. However, Spotify's playlist curation is greatly influenced by the day of the week a track is released. Specifically, there's a cut-off point to when a track would be considered for editorial/algorithmic playlists; thus, it indirectly influences our music consumption habit.\n",
    "\n",
    "Month, day, week and dayofweek are categorical variables in ordinal order"
   ]
  },
  {
   "cell_type": "code",
   "execution_count": 0,
   "metadata": {
    "colab": {},
    "colab_type": "code",
    "id": "ZnWcmHfkIR3D"
   },
   "outputs": [],
   "source": [
    "#categorical features\n",
    "categorical_feat = ['track_id', 'artist_id', 'release_date_day', 'release_date_month', 'release_date_year',\n",
    "                    'release_date_dayofweek', 'release_date_week', 'album_type', 'key', 'mode',\n",
    "                    'time_signature']\n",
    "numerical_feat = ['popularity', 'danceability', 'energy', 'loudness', 'speechiness', 'acousticness', \n",
    "                 'instrumentalness', 'liveness', 'valence', 'tempo', 'duration_ms']\n"
   ]
  },
  {
   "cell_type": "code",
   "execution_count": 13,
   "metadata": {
    "colab": {
     "base_uri": "https://localhost:8080/",
     "height": 224
    },
    "colab_type": "code",
    "executionInfo": {
     "elapsed": 823,
     "status": "ok",
     "timestamp": 1585863311906,
     "user": {
      "displayName": "Taku Takamatsu",
      "photoUrl": "https://lh3.googleusercontent.com/a-/AOh14Gi1_v2qzxfwtRstCyYb0azc-dXw4_c_QCFspd1y=s64",
      "userId": "07848600862677236277"
     },
     "user_tz": 240
    },
    "id": "UdEpC2Q-IR3I",
    "outputId": "76b2d70d-50e4-4d3a-d75b-ca21723cf89c",
    "scrolled": false
   },
   "outputs": [
    {
     "data": {
      "text/html": [
       "<div>\n",
       "<style scoped>\n",
       "    .dataframe tbody tr th:only-of-type {\n",
       "        vertical-align: middle;\n",
       "    }\n",
       "\n",
       "    .dataframe tbody tr th {\n",
       "        vertical-align: top;\n",
       "    }\n",
       "\n",
       "    .dataframe thead th {\n",
       "        text-align: right;\n",
       "    }\n",
       "</style>\n",
       "<table border=\"1\" class=\"dataframe\">\n",
       "  <thead>\n",
       "    <tr style=\"text-align: right;\">\n",
       "      <th></th>\n",
       "      <th>track_id</th>\n",
       "      <th>artist_id</th>\n",
       "      <th>album_type</th>\n",
       "      <th>popularity</th>\n",
       "      <th>danceability</th>\n",
       "      <th>energy</th>\n",
       "      <th>key</th>\n",
       "      <th>loudness</th>\n",
       "      <th>mode</th>\n",
       "      <th>speechiness</th>\n",
       "      <th>acousticness</th>\n",
       "      <th>instrumentalness</th>\n",
       "      <th>liveness</th>\n",
       "      <th>valence</th>\n",
       "      <th>tempo</th>\n",
       "      <th>duration_ms</th>\n",
       "      <th>time_signature</th>\n",
       "      <th>user_group</th>\n",
       "      <th>release_date_day</th>\n",
       "      <th>release_date_month</th>\n",
       "      <th>release_date_year</th>\n",
       "      <th>release_date_dayofweek</th>\n",
       "      <th>release_date_week</th>\n",
       "    </tr>\n",
       "  </thead>\n",
       "  <tbody>\n",
       "    <tr>\n",
       "      <th>0</th>\n",
       "      <td>0sR0deixp6xTZ5Yx9g0pr0</td>\n",
       "      <td>[4K61UysqQc1VRj8VsY76Qw]</td>\n",
       "      <td>single</td>\n",
       "      <td>34</td>\n",
       "      <td>0.517</td>\n",
       "      <td>0.480</td>\n",
       "      <td>11</td>\n",
       "      <td>-7.944</td>\n",
       "      <td>Minor</td>\n",
       "      <td>0.0425</td>\n",
       "      <td>0.6830</td>\n",
       "      <td>0.000000</td>\n",
       "      <td>0.0760</td>\n",
       "      <td>0.539</td>\n",
       "      <td>134.012</td>\n",
       "      <td>212236</td>\n",
       "      <td>4</td>\n",
       "      <td>1</td>\n",
       "      <td>22</td>\n",
       "      <td>6</td>\n",
       "      <td>2018</td>\n",
       "      <td>4</td>\n",
       "      <td>25</td>\n",
       "    </tr>\n",
       "    <tr>\n",
       "      <th>1</th>\n",
       "      <td>0doiRAg2YNQvamY6oMPwkw</td>\n",
       "      <td>[4cnFw4bkIWVGKUBsr93OS5]</td>\n",
       "      <td>single</td>\n",
       "      <td>4</td>\n",
       "      <td>0.632</td>\n",
       "      <td>0.677</td>\n",
       "      <td>11</td>\n",
       "      <td>-8.105</td>\n",
       "      <td>Major</td>\n",
       "      <td>0.0911</td>\n",
       "      <td>0.2630</td>\n",
       "      <td>0.000010</td>\n",
       "      <td>0.0977</td>\n",
       "      <td>0.512</td>\n",
       "      <td>119.763</td>\n",
       "      <td>199027</td>\n",
       "      <td>4</td>\n",
       "      <td>1</td>\n",
       "      <td>27</td>\n",
       "      <td>4</td>\n",
       "      <td>2018</td>\n",
       "      <td>4</td>\n",
       "      <td>17</td>\n",
       "    </tr>\n",
       "    <tr>\n",
       "      <th>2</th>\n",
       "      <td>0NuIfPuBhUAt4aA4HP0rUu</td>\n",
       "      <td>[3IunaFjvNKj98JW89JYv9u]</td>\n",
       "      <td>album</td>\n",
       "      <td>53</td>\n",
       "      <td>0.519</td>\n",
       "      <td>0.888</td>\n",
       "      <td>11</td>\n",
       "      <td>-6.232</td>\n",
       "      <td>Major</td>\n",
       "      <td>0.1170</td>\n",
       "      <td>0.0406</td>\n",
       "      <td>0.000000</td>\n",
       "      <td>0.2270</td>\n",
       "      <td>0.416</td>\n",
       "      <td>149.938</td>\n",
       "      <td>162486</td>\n",
       "      <td>4</td>\n",
       "      <td>1</td>\n",
       "      <td>1</td>\n",
       "      <td>3</td>\n",
       "      <td>2019</td>\n",
       "      <td>4</td>\n",
       "      <td>9</td>\n",
       "    </tr>\n",
       "    <tr>\n",
       "      <th>3</th>\n",
       "      <td>5EXD5rXJ4IVb8g4xSwT0fc</td>\n",
       "      <td>[4cnFw4bkIWVGKUBsr93OS5]</td>\n",
       "      <td>single</td>\n",
       "      <td>47</td>\n",
       "      <td>0.481</td>\n",
       "      <td>0.412</td>\n",
       "      <td>9</td>\n",
       "      <td>-8.413</td>\n",
       "      <td>Major</td>\n",
       "      <td>0.0401</td>\n",
       "      <td>0.6110</td>\n",
       "      <td>0.000059</td>\n",
       "      <td>0.0998</td>\n",
       "      <td>0.326</td>\n",
       "      <td>84.358</td>\n",
       "      <td>220588</td>\n",
       "      <td>4</td>\n",
       "      <td>1</td>\n",
       "      <td>8</td>\n",
       "      <td>4</td>\n",
       "      <td>2016</td>\n",
       "      <td>4</td>\n",
       "      <td>14</td>\n",
       "    </tr>\n",
       "    <tr>\n",
       "      <th>4</th>\n",
       "      <td>68ViVsxqymVrKMnAbVsEhU</td>\n",
       "      <td>[0vQwQkQbLxrapE7TG9o5SB]</td>\n",
       "      <td>single</td>\n",
       "      <td>48</td>\n",
       "      <td>0.501</td>\n",
       "      <td>0.533</td>\n",
       "      <td>2</td>\n",
       "      <td>-10.110</td>\n",
       "      <td>Major</td>\n",
       "      <td>0.0379</td>\n",
       "      <td>0.2020</td>\n",
       "      <td>0.002060</td>\n",
       "      <td>0.1130</td>\n",
       "      <td>0.151</td>\n",
       "      <td>138.920</td>\n",
       "      <td>259640</td>\n",
       "      <td>4</td>\n",
       "      <td>1</td>\n",
       "      <td>12</td>\n",
       "      <td>12</td>\n",
       "      <td>2018</td>\n",
       "      <td>2</td>\n",
       "      <td>50</td>\n",
       "    </tr>\n",
       "  </tbody>\n",
       "</table>\n",
       "</div>"
      ],
      "text/plain": [
       "                 track_id  ... release_date_week\n",
       "0  0sR0deixp6xTZ5Yx9g0pr0  ...                25\n",
       "1  0doiRAg2YNQvamY6oMPwkw  ...                17\n",
       "2  0NuIfPuBhUAt4aA4HP0rUu  ...                 9\n",
       "3  5EXD5rXJ4IVb8g4xSwT0fc  ...                14\n",
       "4  68ViVsxqymVrKMnAbVsEhU  ...                50\n",
       "\n",
       "[5 rows x 23 columns]"
      ]
     },
     "execution_count": 13,
     "metadata": {
      "tags": []
     },
     "output_type": "execute_result"
    }
   ],
   "source": [
    "spotify_df.head()"
   ]
  },
  {
   "cell_type": "code",
   "execution_count": 14,
   "metadata": {
    "colab": {
     "base_uri": "https://localhost:8080/",
     "height": 224
    },
    "colab_type": "code",
    "executionInfo": {
     "elapsed": 2119,
     "status": "ok",
     "timestamp": 1585863313627,
     "user": {
      "displayName": "Taku Takamatsu",
      "photoUrl": "https://lh3.googleusercontent.com/a-/AOh14Gi1_v2qzxfwtRstCyYb0azc-dXw4_c_QCFspd1y=s64",
      "userId": "07848600862677236277"
     },
     "user_tz": 240
    },
    "id": "28VV3T0WIR3S",
    "outputId": "a644adcf-69e1-4fef-8fb3-56eead04d39c",
    "scrolled": true
   },
   "outputs": [
    {
     "data": {
      "text/html": [
       "<div>\n",
       "<style scoped>\n",
       "    .dataframe tbody tr th:only-of-type {\n",
       "        vertical-align: middle;\n",
       "    }\n",
       "\n",
       "    .dataframe tbody tr th {\n",
       "        vertical-align: top;\n",
       "    }\n",
       "\n",
       "    .dataframe thead th {\n",
       "        text-align: right;\n",
       "    }\n",
       "</style>\n",
       "<table border=\"1\" class=\"dataframe\">\n",
       "  <thead>\n",
       "    <tr style=\"text-align: right;\">\n",
       "      <th></th>\n",
       "      <th>track_id</th>\n",
       "      <th>artist_id</th>\n",
       "      <th>album_type</th>\n",
       "      <th>popularity</th>\n",
       "      <th>danceability</th>\n",
       "      <th>energy</th>\n",
       "      <th>key</th>\n",
       "      <th>loudness</th>\n",
       "      <th>mode</th>\n",
       "      <th>speechiness</th>\n",
       "      <th>acousticness</th>\n",
       "      <th>instrumentalness</th>\n",
       "      <th>liveness</th>\n",
       "      <th>valence</th>\n",
       "      <th>tempo</th>\n",
       "      <th>duration_ms</th>\n",
       "      <th>time_signature</th>\n",
       "      <th>user_group</th>\n",
       "      <th>release_date_day</th>\n",
       "      <th>release_date_month</th>\n",
       "      <th>release_date_year</th>\n",
       "      <th>release_date_dayofweek</th>\n",
       "      <th>release_date_week</th>\n",
       "    </tr>\n",
       "  </thead>\n",
       "  <tbody>\n",
       "    <tr>\n",
       "      <th>0</th>\n",
       "      <td>0sR0deixp6xTZ5Yx9g0pr0</td>\n",
       "      <td>4K61UysqQc1VRj8VsY76Qw</td>\n",
       "      <td>single</td>\n",
       "      <td>34</td>\n",
       "      <td>0.517</td>\n",
       "      <td>0.480</td>\n",
       "      <td>11</td>\n",
       "      <td>-7.944</td>\n",
       "      <td>Minor</td>\n",
       "      <td>0.0425</td>\n",
       "      <td>0.6830</td>\n",
       "      <td>0.000000</td>\n",
       "      <td>0.0760</td>\n",
       "      <td>0.539</td>\n",
       "      <td>134.012</td>\n",
       "      <td>212236</td>\n",
       "      <td>4</td>\n",
       "      <td>1</td>\n",
       "      <td>22</td>\n",
       "      <td>6</td>\n",
       "      <td>2018</td>\n",
       "      <td>4</td>\n",
       "      <td>25</td>\n",
       "    </tr>\n",
       "    <tr>\n",
       "      <th>1</th>\n",
       "      <td>0doiRAg2YNQvamY6oMPwkw</td>\n",
       "      <td>4cnFw4bkIWVGKUBsr93OS5</td>\n",
       "      <td>single</td>\n",
       "      <td>4</td>\n",
       "      <td>0.632</td>\n",
       "      <td>0.677</td>\n",
       "      <td>11</td>\n",
       "      <td>-8.105</td>\n",
       "      <td>Major</td>\n",
       "      <td>0.0911</td>\n",
       "      <td>0.2630</td>\n",
       "      <td>0.000010</td>\n",
       "      <td>0.0977</td>\n",
       "      <td>0.512</td>\n",
       "      <td>119.763</td>\n",
       "      <td>199027</td>\n",
       "      <td>4</td>\n",
       "      <td>1</td>\n",
       "      <td>27</td>\n",
       "      <td>4</td>\n",
       "      <td>2018</td>\n",
       "      <td>4</td>\n",
       "      <td>17</td>\n",
       "    </tr>\n",
       "    <tr>\n",
       "      <th>2</th>\n",
       "      <td>0NuIfPuBhUAt4aA4HP0rUu</td>\n",
       "      <td>3IunaFjvNKj98JW89JYv9u</td>\n",
       "      <td>album</td>\n",
       "      <td>53</td>\n",
       "      <td>0.519</td>\n",
       "      <td>0.888</td>\n",
       "      <td>11</td>\n",
       "      <td>-6.232</td>\n",
       "      <td>Major</td>\n",
       "      <td>0.1170</td>\n",
       "      <td>0.0406</td>\n",
       "      <td>0.000000</td>\n",
       "      <td>0.2270</td>\n",
       "      <td>0.416</td>\n",
       "      <td>149.938</td>\n",
       "      <td>162486</td>\n",
       "      <td>4</td>\n",
       "      <td>1</td>\n",
       "      <td>1</td>\n",
       "      <td>3</td>\n",
       "      <td>2019</td>\n",
       "      <td>4</td>\n",
       "      <td>9</td>\n",
       "    </tr>\n",
       "    <tr>\n",
       "      <th>3</th>\n",
       "      <td>5EXD5rXJ4IVb8g4xSwT0fc</td>\n",
       "      <td>4cnFw4bkIWVGKUBsr93OS5</td>\n",
       "      <td>single</td>\n",
       "      <td>47</td>\n",
       "      <td>0.481</td>\n",
       "      <td>0.412</td>\n",
       "      <td>9</td>\n",
       "      <td>-8.413</td>\n",
       "      <td>Major</td>\n",
       "      <td>0.0401</td>\n",
       "      <td>0.6110</td>\n",
       "      <td>0.000059</td>\n",
       "      <td>0.0998</td>\n",
       "      <td>0.326</td>\n",
       "      <td>84.358</td>\n",
       "      <td>220588</td>\n",
       "      <td>4</td>\n",
       "      <td>1</td>\n",
       "      <td>8</td>\n",
       "      <td>4</td>\n",
       "      <td>2016</td>\n",
       "      <td>4</td>\n",
       "      <td>14</td>\n",
       "    </tr>\n",
       "    <tr>\n",
       "      <th>4</th>\n",
       "      <td>68ViVsxqymVrKMnAbVsEhU</td>\n",
       "      <td>0vQwQkQbLxrapE7TG9o5SB</td>\n",
       "      <td>single</td>\n",
       "      <td>48</td>\n",
       "      <td>0.501</td>\n",
       "      <td>0.533</td>\n",
       "      <td>2</td>\n",
       "      <td>-10.110</td>\n",
       "      <td>Major</td>\n",
       "      <td>0.0379</td>\n",
       "      <td>0.2020</td>\n",
       "      <td>0.002060</td>\n",
       "      <td>0.1130</td>\n",
       "      <td>0.151</td>\n",
       "      <td>138.920</td>\n",
       "      <td>259640</td>\n",
       "      <td>4</td>\n",
       "      <td>1</td>\n",
       "      <td>12</td>\n",
       "      <td>12</td>\n",
       "      <td>2018</td>\n",
       "      <td>2</td>\n",
       "      <td>50</td>\n",
       "    </tr>\n",
       "  </tbody>\n",
       "</table>\n",
       "</div>"
      ],
      "text/plain": [
       "                 track_id  ... release_date_week\n",
       "0  0sR0deixp6xTZ5Yx9g0pr0  ...                25\n",
       "1  0doiRAg2YNQvamY6oMPwkw  ...                17\n",
       "2  0NuIfPuBhUAt4aA4HP0rUu  ...                 9\n",
       "3  5EXD5rXJ4IVb8g4xSwT0fc  ...                14\n",
       "4  68ViVsxqymVrKMnAbVsEhU  ...                50\n",
       "\n",
       "[5 rows x 23 columns]"
      ]
     },
     "execution_count": 14,
     "metadata": {
      "tags": []
     },
     "output_type": "execute_result"
    }
   ],
   "source": [
    "#now, let's unstack the list of artist_ids\n",
    "#spotify_df['artist_id'] = literal_eval(spotify_df['artist_id'])\n",
    "spotify_df = spotify_df.explode('artist_id')#.reset_index(drop=True)\n",
    "spotify_df.head()"
   ]
  },
  {
   "cell_type": "code",
   "execution_count": 15,
   "metadata": {
    "colab": {
     "base_uri": "https://localhost:8080/",
     "height": 35
    },
    "colab_type": "code",
    "executionInfo": {
     "elapsed": 1423,
     "status": "ok",
     "timestamp": 1585863313630,
     "user": {
      "displayName": "Taku Takamatsu",
      "photoUrl": "https://lh3.googleusercontent.com/a-/AOh14Gi1_v2qzxfwtRstCyYb0azc-dXw4_c_QCFspd1y=s64",
      "userId": "07848600862677236277"
     },
     "user_tz": 240
    },
    "id": "_YbqPb2vR23Z",
    "outputId": "b885f8bd-965e-4b35-fb5d-7285724d0b6e"
   },
   "outputs": [
    {
     "data": {
      "text/plain": [
       "(6692, 23)"
      ]
     },
     "execution_count": 15,
     "metadata": {
      "tags": []
     },
     "output_type": "execute_result"
    }
   ],
   "source": [
    "#let's observe the size\n",
    "spotify_df.shape"
   ]
  },
  {
   "cell_type": "code",
   "execution_count": 0,
   "metadata": {
    "colab": {},
    "colab_type": "code",
    "id": "hN751VhyIR3c",
    "scrolled": true
   },
   "outputs": [],
   "source": [
    "#merge additional artist info into the dataframe\n",
    "artist_info = pd.concat([user_1_artist_info, user_2_artist_info])\n",
    "spotify_df = spotify_df.merge(artist_info, how='left', on='artist_id')"
   ]
  },
  {
   "cell_type": "code",
   "execution_count": 17,
   "metadata": {
    "colab": {
     "base_uri": "https://localhost:8080/",
     "height": 343
    },
    "colab_type": "code",
    "executionInfo": {
     "elapsed": 1608,
     "status": "ok",
     "timestamp": 1585863315050,
     "user": {
      "displayName": "Taku Takamatsu",
      "photoUrl": "https://lh3.googleusercontent.com/a-/AOh14Gi1_v2qzxfwtRstCyYb0azc-dXw4_c_QCFspd1y=s64",
      "userId": "07848600862677236277"
     },
     "user_tz": 240
    },
    "id": "gmkdc6YCQRxq",
    "outputId": "c45c1575-7d9b-4640-db87-5eda3976d496"
   },
   "outputs": [
    {
     "data": {
      "text/html": [
       "<div>\n",
       "<style scoped>\n",
       "    .dataframe tbody tr th:only-of-type {\n",
       "        vertical-align: middle;\n",
       "    }\n",
       "\n",
       "    .dataframe tbody tr th {\n",
       "        vertical-align: top;\n",
       "    }\n",
       "\n",
       "    .dataframe thead th {\n",
       "        text-align: right;\n",
       "    }\n",
       "</style>\n",
       "<table border=\"1\" class=\"dataframe\">\n",
       "  <thead>\n",
       "    <tr style=\"text-align: right;\">\n",
       "      <th></th>\n",
       "      <th>track_id</th>\n",
       "      <th>artist_id</th>\n",
       "      <th>album_type</th>\n",
       "      <th>popularity</th>\n",
       "      <th>danceability</th>\n",
       "      <th>energy</th>\n",
       "      <th>key</th>\n",
       "      <th>loudness</th>\n",
       "      <th>mode</th>\n",
       "      <th>speechiness</th>\n",
       "      <th>acousticness</th>\n",
       "      <th>instrumentalness</th>\n",
       "      <th>liveness</th>\n",
       "      <th>valence</th>\n",
       "      <th>tempo</th>\n",
       "      <th>duration_ms</th>\n",
       "      <th>time_signature</th>\n",
       "      <th>user_group</th>\n",
       "      <th>release_date_day</th>\n",
       "      <th>release_date_month</th>\n",
       "      <th>release_date_year</th>\n",
       "      <th>release_date_dayofweek</th>\n",
       "      <th>release_date_week</th>\n",
       "      <th>artist_genre</th>\n",
       "      <th>artist_follower_count</th>\n",
       "    </tr>\n",
       "  </thead>\n",
       "  <tbody>\n",
       "    <tr>\n",
       "      <th>0</th>\n",
       "      <td>0sR0deixp6xTZ5Yx9g0pr0</td>\n",
       "      <td>4K61UysqQc1VRj8VsY76Qw</td>\n",
       "      <td>single</td>\n",
       "      <td>34</td>\n",
       "      <td>0.517</td>\n",
       "      <td>0.480</td>\n",
       "      <td>11</td>\n",
       "      <td>-7.944</td>\n",
       "      <td>Minor</td>\n",
       "      <td>0.0425</td>\n",
       "      <td>0.6830</td>\n",
       "      <td>0.000000</td>\n",
       "      <td>0.0760</td>\n",
       "      <td>0.539</td>\n",
       "      <td>134.012</td>\n",
       "      <td>212236</td>\n",
       "      <td>4</td>\n",
       "      <td>1</td>\n",
       "      <td>22</td>\n",
       "      <td>6</td>\n",
       "      <td>2018</td>\n",
       "      <td>4</td>\n",
       "      <td>25</td>\n",
       "      <td>[]</td>\n",
       "      <td>7547</td>\n",
       "    </tr>\n",
       "    <tr>\n",
       "      <th>1</th>\n",
       "      <td>0doiRAg2YNQvamY6oMPwkw</td>\n",
       "      <td>4cnFw4bkIWVGKUBsr93OS5</td>\n",
       "      <td>single</td>\n",
       "      <td>4</td>\n",
       "      <td>0.632</td>\n",
       "      <td>0.677</td>\n",
       "      <td>11</td>\n",
       "      <td>-8.105</td>\n",
       "      <td>Major</td>\n",
       "      <td>0.0911</td>\n",
       "      <td>0.2630</td>\n",
       "      <td>0.000010</td>\n",
       "      <td>0.0977</td>\n",
       "      <td>0.512</td>\n",
       "      <td>119.763</td>\n",
       "      <td>199027</td>\n",
       "      <td>4</td>\n",
       "      <td>1</td>\n",
       "      <td>27</td>\n",
       "      <td>4</td>\n",
       "      <td>2018</td>\n",
       "      <td>4</td>\n",
       "      <td>17</td>\n",
       "      <td>[indie cafe pop, indie r&amp;b, indiecoustica]</td>\n",
       "      <td>20710</td>\n",
       "    </tr>\n",
       "    <tr>\n",
       "      <th>2</th>\n",
       "      <td>0NuIfPuBhUAt4aA4HP0rUu</td>\n",
       "      <td>3IunaFjvNKj98JW89JYv9u</td>\n",
       "      <td>album</td>\n",
       "      <td>53</td>\n",
       "      <td>0.519</td>\n",
       "      <td>0.888</td>\n",
       "      <td>11</td>\n",
       "      <td>-6.232</td>\n",
       "      <td>Major</td>\n",
       "      <td>0.1170</td>\n",
       "      <td>0.0406</td>\n",
       "      <td>0.000000</td>\n",
       "      <td>0.2270</td>\n",
       "      <td>0.416</td>\n",
       "      <td>149.938</td>\n",
       "      <td>162486</td>\n",
       "      <td>4</td>\n",
       "      <td>1</td>\n",
       "      <td>1</td>\n",
       "      <td>3</td>\n",
       "      <td>2019</td>\n",
       "      <td>4</td>\n",
       "      <td>9</td>\n",
       "      <td>[art pop, electropop, indie pop, indie poptimi...</td>\n",
       "      <td>351533</td>\n",
       "    </tr>\n",
       "    <tr>\n",
       "      <th>3</th>\n",
       "      <td>5EXD5rXJ4IVb8g4xSwT0fc</td>\n",
       "      <td>4cnFw4bkIWVGKUBsr93OS5</td>\n",
       "      <td>single</td>\n",
       "      <td>47</td>\n",
       "      <td>0.481</td>\n",
       "      <td>0.412</td>\n",
       "      <td>9</td>\n",
       "      <td>-8.413</td>\n",
       "      <td>Major</td>\n",
       "      <td>0.0401</td>\n",
       "      <td>0.6110</td>\n",
       "      <td>0.000059</td>\n",
       "      <td>0.0998</td>\n",
       "      <td>0.326</td>\n",
       "      <td>84.358</td>\n",
       "      <td>220588</td>\n",
       "      <td>4</td>\n",
       "      <td>1</td>\n",
       "      <td>8</td>\n",
       "      <td>4</td>\n",
       "      <td>2016</td>\n",
       "      <td>4</td>\n",
       "      <td>14</td>\n",
       "      <td>[indie cafe pop, indie r&amp;b, indiecoustica]</td>\n",
       "      <td>20710</td>\n",
       "    </tr>\n",
       "    <tr>\n",
       "      <th>4</th>\n",
       "      <td>68ViVsxqymVrKMnAbVsEhU</td>\n",
       "      <td>0vQwQkQbLxrapE7TG9o5SB</td>\n",
       "      <td>single</td>\n",
       "      <td>48</td>\n",
       "      <td>0.501</td>\n",
       "      <td>0.533</td>\n",
       "      <td>2</td>\n",
       "      <td>-10.110</td>\n",
       "      <td>Major</td>\n",
       "      <td>0.0379</td>\n",
       "      <td>0.2020</td>\n",
       "      <td>0.002060</td>\n",
       "      <td>0.1130</td>\n",
       "      <td>0.151</td>\n",
       "      <td>138.920</td>\n",
       "      <td>259640</td>\n",
       "      <td>4</td>\n",
       "      <td>1</td>\n",
       "      <td>12</td>\n",
       "      <td>12</td>\n",
       "      <td>2018</td>\n",
       "      <td>2</td>\n",
       "      <td>50</td>\n",
       "      <td>[]</td>\n",
       "      <td>21188</td>\n",
       "    </tr>\n",
       "  </tbody>\n",
       "</table>\n",
       "</div>"
      ],
      "text/plain": [
       "                 track_id  ... artist_follower_count\n",
       "0  0sR0deixp6xTZ5Yx9g0pr0  ...                  7547\n",
       "1  0doiRAg2YNQvamY6oMPwkw  ...                 20710\n",
       "2  0NuIfPuBhUAt4aA4HP0rUu  ...                351533\n",
       "3  5EXD5rXJ4IVb8g4xSwT0fc  ...                 20710\n",
       "4  68ViVsxqymVrKMnAbVsEhU  ...                 21188\n",
       "\n",
       "[5 rows x 25 columns]"
      ]
     },
     "execution_count": 17,
     "metadata": {
      "tags": []
     },
     "output_type": "execute_result"
    }
   ],
   "source": [
    "spotify_df.head()"
   ]
  },
  {
   "cell_type": "code",
   "execution_count": 18,
   "metadata": {
    "colab": {
     "base_uri": "https://localhost:8080/",
     "height": 35
    },
    "colab_type": "code",
    "executionInfo": {
     "elapsed": 841,
     "status": "ok",
     "timestamp": 1585863317106,
     "user": {
      "displayName": "Taku Takamatsu",
      "photoUrl": "https://lh3.googleusercontent.com/a-/AOh14Gi1_v2qzxfwtRstCyYb0azc-dXw4_c_QCFspd1y=s64",
      "userId": "07848600862677236277"
     },
     "user_tz": 240
    },
    "id": "4rYh5RqwQAql",
    "outputId": "e6d45b92-1357-46f4-c185-c6f1a37faa36"
   },
   "outputs": [
    {
     "data": {
      "text/plain": [
       "(10057, 25)"
      ]
     },
     "execution_count": 18,
     "metadata": {
      "tags": []
     },
     "output_type": "execute_result"
    }
   ],
   "source": [
    "spotify_df.shape"
   ]
  },
  {
   "cell_type": "code",
   "execution_count": 19,
   "metadata": {
    "colab": {
     "base_uri": "https://localhost:8080/",
     "height": 439
    },
    "colab_type": "code",
    "executionInfo": {
     "elapsed": 1390,
     "status": "ok",
     "timestamp": 1585863318019,
     "user": {
      "displayName": "Taku Takamatsu",
      "photoUrl": "https://lh3.googleusercontent.com/a-/AOh14Gi1_v2qzxfwtRstCyYb0azc-dXw4_c_QCFspd1y=s64",
      "userId": "07848600862677236277"
     },
     "user_tz": 240
    },
    "id": "RMd1pLM5IR3u",
    "outputId": "6f046f1b-3441-4a52-e3de-50a34daf7da2",
    "scrolled": true
   },
   "outputs": [
    {
     "data": {
      "text/html": [
       "<div>\n",
       "<style scoped>\n",
       "    .dataframe tbody tr th:only-of-type {\n",
       "        vertical-align: middle;\n",
       "    }\n",
       "\n",
       "    .dataframe tbody tr th {\n",
       "        vertical-align: top;\n",
       "    }\n",
       "\n",
       "    .dataframe thead th {\n",
       "        text-align: right;\n",
       "    }\n",
       "</style>\n",
       "<table border=\"1\" class=\"dataframe\">\n",
       "  <thead>\n",
       "    <tr style=\"text-align: right;\">\n",
       "      <th></th>\n",
       "      <th>track_id</th>\n",
       "      <th>artist_id</th>\n",
       "      <th>album_type</th>\n",
       "      <th>popularity</th>\n",
       "      <th>danceability</th>\n",
       "      <th>energy</th>\n",
       "      <th>key</th>\n",
       "      <th>loudness</th>\n",
       "      <th>mode</th>\n",
       "      <th>speechiness</th>\n",
       "      <th>acousticness</th>\n",
       "      <th>instrumentalness</th>\n",
       "      <th>liveness</th>\n",
       "      <th>valence</th>\n",
       "      <th>tempo</th>\n",
       "      <th>duration_ms</th>\n",
       "      <th>time_signature</th>\n",
       "      <th>user_group</th>\n",
       "      <th>release_date_day</th>\n",
       "      <th>release_date_month</th>\n",
       "      <th>release_date_year</th>\n",
       "      <th>release_date_dayofweek</th>\n",
       "      <th>release_date_week</th>\n",
       "      <th>artist_genre</th>\n",
       "      <th>artist_follower_count</th>\n",
       "    </tr>\n",
       "  </thead>\n",
       "  <tbody>\n",
       "    <tr>\n",
       "      <th>0</th>\n",
       "      <td>0sR0deixp6xTZ5Yx9g0pr0</td>\n",
       "      <td>4K61UysqQc1VRj8VsY76Qw</td>\n",
       "      <td>single</td>\n",
       "      <td>34</td>\n",
       "      <td>0.517</td>\n",
       "      <td>0.480</td>\n",
       "      <td>11</td>\n",
       "      <td>-7.944</td>\n",
       "      <td>Minor</td>\n",
       "      <td>0.0425</td>\n",
       "      <td>0.6830</td>\n",
       "      <td>0.000000</td>\n",
       "      <td>0.0760</td>\n",
       "      <td>0.539</td>\n",
       "      <td>134.012</td>\n",
       "      <td>212236</td>\n",
       "      <td>4</td>\n",
       "      <td>1</td>\n",
       "      <td>22</td>\n",
       "      <td>6</td>\n",
       "      <td>2018</td>\n",
       "      <td>4</td>\n",
       "      <td>25</td>\n",
       "      <td>NaN</td>\n",
       "      <td>7547</td>\n",
       "    </tr>\n",
       "    <tr>\n",
       "      <th>1</th>\n",
       "      <td>0doiRAg2YNQvamY6oMPwkw</td>\n",
       "      <td>4cnFw4bkIWVGKUBsr93OS5</td>\n",
       "      <td>single</td>\n",
       "      <td>4</td>\n",
       "      <td>0.632</td>\n",
       "      <td>0.677</td>\n",
       "      <td>11</td>\n",
       "      <td>-8.105</td>\n",
       "      <td>Major</td>\n",
       "      <td>0.0911</td>\n",
       "      <td>0.2630</td>\n",
       "      <td>0.000010</td>\n",
       "      <td>0.0977</td>\n",
       "      <td>0.512</td>\n",
       "      <td>119.763</td>\n",
       "      <td>199027</td>\n",
       "      <td>4</td>\n",
       "      <td>1</td>\n",
       "      <td>27</td>\n",
       "      <td>4</td>\n",
       "      <td>2018</td>\n",
       "      <td>4</td>\n",
       "      <td>17</td>\n",
       "      <td>indie cafe pop</td>\n",
       "      <td>20710</td>\n",
       "    </tr>\n",
       "    <tr>\n",
       "      <th>1</th>\n",
       "      <td>0doiRAg2YNQvamY6oMPwkw</td>\n",
       "      <td>4cnFw4bkIWVGKUBsr93OS5</td>\n",
       "      <td>single</td>\n",
       "      <td>4</td>\n",
       "      <td>0.632</td>\n",
       "      <td>0.677</td>\n",
       "      <td>11</td>\n",
       "      <td>-8.105</td>\n",
       "      <td>Major</td>\n",
       "      <td>0.0911</td>\n",
       "      <td>0.2630</td>\n",
       "      <td>0.000010</td>\n",
       "      <td>0.0977</td>\n",
       "      <td>0.512</td>\n",
       "      <td>119.763</td>\n",
       "      <td>199027</td>\n",
       "      <td>4</td>\n",
       "      <td>1</td>\n",
       "      <td>27</td>\n",
       "      <td>4</td>\n",
       "      <td>2018</td>\n",
       "      <td>4</td>\n",
       "      <td>17</td>\n",
       "      <td>indie r&amp;b</td>\n",
       "      <td>20710</td>\n",
       "    </tr>\n",
       "    <tr>\n",
       "      <th>1</th>\n",
       "      <td>0doiRAg2YNQvamY6oMPwkw</td>\n",
       "      <td>4cnFw4bkIWVGKUBsr93OS5</td>\n",
       "      <td>single</td>\n",
       "      <td>4</td>\n",
       "      <td>0.632</td>\n",
       "      <td>0.677</td>\n",
       "      <td>11</td>\n",
       "      <td>-8.105</td>\n",
       "      <td>Major</td>\n",
       "      <td>0.0911</td>\n",
       "      <td>0.2630</td>\n",
       "      <td>0.000010</td>\n",
       "      <td>0.0977</td>\n",
       "      <td>0.512</td>\n",
       "      <td>119.763</td>\n",
       "      <td>199027</td>\n",
       "      <td>4</td>\n",
       "      <td>1</td>\n",
       "      <td>27</td>\n",
       "      <td>4</td>\n",
       "      <td>2018</td>\n",
       "      <td>4</td>\n",
       "      <td>17</td>\n",
       "      <td>indiecoustica</td>\n",
       "      <td>20710</td>\n",
       "    </tr>\n",
       "    <tr>\n",
       "      <th>2</th>\n",
       "      <td>0NuIfPuBhUAt4aA4HP0rUu</td>\n",
       "      <td>3IunaFjvNKj98JW89JYv9u</td>\n",
       "      <td>album</td>\n",
       "      <td>53</td>\n",
       "      <td>0.519</td>\n",
       "      <td>0.888</td>\n",
       "      <td>11</td>\n",
       "      <td>-6.232</td>\n",
       "      <td>Major</td>\n",
       "      <td>0.1170</td>\n",
       "      <td>0.0406</td>\n",
       "      <td>0.000000</td>\n",
       "      <td>0.2270</td>\n",
       "      <td>0.416</td>\n",
       "      <td>149.938</td>\n",
       "      <td>162486</td>\n",
       "      <td>4</td>\n",
       "      <td>1</td>\n",
       "      <td>1</td>\n",
       "      <td>3</td>\n",
       "      <td>2019</td>\n",
       "      <td>4</td>\n",
       "      <td>9</td>\n",
       "      <td>art pop</td>\n",
       "      <td>351533</td>\n",
       "    </tr>\n",
       "    <tr>\n",
       "      <th>...</th>\n",
       "      <td>...</td>\n",
       "      <td>...</td>\n",
       "      <td>...</td>\n",
       "      <td>...</td>\n",
       "      <td>...</td>\n",
       "      <td>...</td>\n",
       "      <td>...</td>\n",
       "      <td>...</td>\n",
       "      <td>...</td>\n",
       "      <td>...</td>\n",
       "      <td>...</td>\n",
       "      <td>...</td>\n",
       "      <td>...</td>\n",
       "      <td>...</td>\n",
       "      <td>...</td>\n",
       "      <td>...</td>\n",
       "      <td>...</td>\n",
       "      <td>...</td>\n",
       "      <td>...</td>\n",
       "      <td>...</td>\n",
       "      <td>...</td>\n",
       "      <td>...</td>\n",
       "      <td>...</td>\n",
       "      <td>...</td>\n",
       "      <td>...</td>\n",
       "    </tr>\n",
       "    <tr>\n",
       "      <th>10054</th>\n",
       "      <td>1iArAuiiDPjtZcwO33YeLF</td>\n",
       "      <td>2e4G04F77jxVuDYo44TCSm</td>\n",
       "      <td>album</td>\n",
       "      <td>53</td>\n",
       "      <td>0.747</td>\n",
       "      <td>0.618</td>\n",
       "      <td>11</td>\n",
       "      <td>-4.212</td>\n",
       "      <td>Major</td>\n",
       "      <td>0.0470</td>\n",
       "      <td>0.0742</td>\n",
       "      <td>0.000000</td>\n",
       "      <td>0.1070</td>\n",
       "      <td>0.621</td>\n",
       "      <td>102.038</td>\n",
       "      <td>190957</td>\n",
       "      <td>4</td>\n",
       "      <td>0</td>\n",
       "      <td>25</td>\n",
       "      <td>5</td>\n",
       "      <td>2017</td>\n",
       "      <td>3</td>\n",
       "      <td>21</td>\n",
       "      <td>korean r&amp;b</td>\n",
       "      <td>151953</td>\n",
       "    </tr>\n",
       "    <tr>\n",
       "      <th>10055</th>\n",
       "      <td>61nHajLq0uUI8khXsfxvQI</td>\n",
       "      <td>6aLdhHUqgdKE86xbtNmY8g</td>\n",
       "      <td>single</td>\n",
       "      <td>43</td>\n",
       "      <td>0.349</td>\n",
       "      <td>0.578</td>\n",
       "      <td>5</td>\n",
       "      <td>-8.323</td>\n",
       "      <td>Major</td>\n",
       "      <td>0.1490</td>\n",
       "      <td>0.6100</td>\n",
       "      <td>0.000162</td>\n",
       "      <td>0.2050</td>\n",
       "      <td>0.421</td>\n",
       "      <td>182.171</td>\n",
       "      <td>213321</td>\n",
       "      <td>4</td>\n",
       "      <td>0</td>\n",
       "      <td>19</td>\n",
       "      <td>12</td>\n",
       "      <td>2017</td>\n",
       "      <td>1</td>\n",
       "      <td>51</td>\n",
       "      <td>k-pop</td>\n",
       "      <td>542151</td>\n",
       "    </tr>\n",
       "    <tr>\n",
       "      <th>10055</th>\n",
       "      <td>61nHajLq0uUI8khXsfxvQI</td>\n",
       "      <td>6aLdhHUqgdKE86xbtNmY8g</td>\n",
       "      <td>single</td>\n",
       "      <td>43</td>\n",
       "      <td>0.349</td>\n",
       "      <td>0.578</td>\n",
       "      <td>5</td>\n",
       "      <td>-8.323</td>\n",
       "      <td>Major</td>\n",
       "      <td>0.1490</td>\n",
       "      <td>0.6100</td>\n",
       "      <td>0.000162</td>\n",
       "      <td>0.2050</td>\n",
       "      <td>0.421</td>\n",
       "      <td>182.171</td>\n",
       "      <td>213321</td>\n",
       "      <td>4</td>\n",
       "      <td>0</td>\n",
       "      <td>19</td>\n",
       "      <td>12</td>\n",
       "      <td>2017</td>\n",
       "      <td>1</td>\n",
       "      <td>51</td>\n",
       "      <td>korean r&amp;b</td>\n",
       "      <td>542151</td>\n",
       "    </tr>\n",
       "    <tr>\n",
       "      <th>10056</th>\n",
       "      <td>61nHajLq0uUI8khXsfxvQI</td>\n",
       "      <td>6aLdhHUqgdKE86xbtNmY8g</td>\n",
       "      <td>single</td>\n",
       "      <td>43</td>\n",
       "      <td>0.349</td>\n",
       "      <td>0.578</td>\n",
       "      <td>5</td>\n",
       "      <td>-8.323</td>\n",
       "      <td>Major</td>\n",
       "      <td>0.1490</td>\n",
       "      <td>0.6100</td>\n",
       "      <td>0.000162</td>\n",
       "      <td>0.2050</td>\n",
       "      <td>0.421</td>\n",
       "      <td>182.171</td>\n",
       "      <td>213321</td>\n",
       "      <td>4</td>\n",
       "      <td>0</td>\n",
       "      <td>19</td>\n",
       "      <td>12</td>\n",
       "      <td>2017</td>\n",
       "      <td>1</td>\n",
       "      <td>51</td>\n",
       "      <td>k-pop</td>\n",
       "      <td>542151</td>\n",
       "    </tr>\n",
       "    <tr>\n",
       "      <th>10056</th>\n",
       "      <td>61nHajLq0uUI8khXsfxvQI</td>\n",
       "      <td>6aLdhHUqgdKE86xbtNmY8g</td>\n",
       "      <td>single</td>\n",
       "      <td>43</td>\n",
       "      <td>0.349</td>\n",
       "      <td>0.578</td>\n",
       "      <td>5</td>\n",
       "      <td>-8.323</td>\n",
       "      <td>Major</td>\n",
       "      <td>0.1490</td>\n",
       "      <td>0.6100</td>\n",
       "      <td>0.000162</td>\n",
       "      <td>0.2050</td>\n",
       "      <td>0.421</td>\n",
       "      <td>182.171</td>\n",
       "      <td>213321</td>\n",
       "      <td>4</td>\n",
       "      <td>0</td>\n",
       "      <td>19</td>\n",
       "      <td>12</td>\n",
       "      <td>2017</td>\n",
       "      <td>1</td>\n",
       "      <td>51</td>\n",
       "      <td>korean r&amp;b</td>\n",
       "      <td>542151</td>\n",
       "    </tr>\n",
       "  </tbody>\n",
       "</table>\n",
       "<p>43462 rows × 25 columns</p>\n",
       "</div>"
      ],
      "text/plain": [
       "                     track_id  ... artist_follower_count\n",
       "0      0sR0deixp6xTZ5Yx9g0pr0  ...                  7547\n",
       "1      0doiRAg2YNQvamY6oMPwkw  ...                 20710\n",
       "1      0doiRAg2YNQvamY6oMPwkw  ...                 20710\n",
       "1      0doiRAg2YNQvamY6oMPwkw  ...                 20710\n",
       "2      0NuIfPuBhUAt4aA4HP0rUu  ...                351533\n",
       "...                       ...  ...                   ...\n",
       "10054  1iArAuiiDPjtZcwO33YeLF  ...                151953\n",
       "10055  61nHajLq0uUI8khXsfxvQI  ...                542151\n",
       "10055  61nHajLq0uUI8khXsfxvQI  ...                542151\n",
       "10056  61nHajLq0uUI8khXsfxvQI  ...                542151\n",
       "10056  61nHajLq0uUI8khXsfxvQI  ...                542151\n",
       "\n",
       "[43462 rows x 25 columns]"
      ]
     },
     "execution_count": 19,
     "metadata": {
      "tags": []
     },
     "output_type": "execute_result"
    }
   ],
   "source": [
    "#now, we can unstack the list of artist genres, as some artists have multiple genres\n",
    "spotify_df = spotify_df.explode('artist_genre')#.reset_index(drop=True)\n",
    "spotify_df"
   ]
  },
  {
   "cell_type": "code",
   "execution_count": 20,
   "metadata": {
    "colab": {
     "base_uri": "https://localhost:8080/",
     "height": 35
    },
    "colab_type": "code",
    "executionInfo": {
     "elapsed": 1227,
     "status": "ok",
     "timestamp": 1585863318021,
     "user": {
      "displayName": "Taku Takamatsu",
      "photoUrl": "https://lh3.googleusercontent.com/a-/AOh14Gi1_v2qzxfwtRstCyYb0azc-dXw4_c_QCFspd1y=s64",
      "userId": "07848600862677236277"
     },
     "user_tz": 240
    },
    "id": "ByRcXABvIR33",
    "outputId": "04a23645-41b8-45b3-98fc-dc642ce16a44"
   },
   "outputs": [
    {
     "data": {
      "text/plain": [
       "(43462, 25)"
      ]
     },
     "execution_count": 20,
     "metadata": {
      "tags": []
     },
     "output_type": "execute_result"
    }
   ],
   "source": [
    "#we now have a fairly large dataset to work with\n",
    "spotify_df.shape"
   ]
  },
  {
   "cell_type": "markdown",
   "metadata": {
    "colab_type": "text",
    "id": "Hr-mlGi0IR39"
   },
   "source": [
    "#### Handling Null Values\n",
    "We should identify all missing values and fill or drop them accordingly."
   ]
  },
  {
   "cell_type": "code",
   "execution_count": 21,
   "metadata": {
    "colab": {
     "base_uri": "https://localhost:8080/",
     "height": 485
    },
    "colab_type": "code",
    "executionInfo": {
     "elapsed": 997,
     "status": "ok",
     "timestamp": 1585863319430,
     "user": {
      "displayName": "Taku Takamatsu",
      "photoUrl": "https://lh3.googleusercontent.com/a-/AOh14Gi1_v2qzxfwtRstCyYb0azc-dXw4_c_QCFspd1y=s64",
      "userId": "07848600862677236277"
     },
     "user_tz": 240
    },
    "id": "vrgERPb0IR3-",
    "outputId": "6c546d9a-a2f0-40e0-b471-b9921dda110d"
   },
   "outputs": [
    {
     "data": {
      "text/plain": [
       "track_id                    0\n",
       "artist_id                   0\n",
       "album_type                  0\n",
       "popularity                  0\n",
       "danceability                0\n",
       "energy                      0\n",
       "key                         0\n",
       "loudness                    0\n",
       "mode                        0\n",
       "speechiness                 0\n",
       "acousticness                0\n",
       "instrumentalness            0\n",
       "liveness                    0\n",
       "valence                     0\n",
       "tempo                       0\n",
       "duration_ms                 0\n",
       "time_signature              0\n",
       "user_group                  0\n",
       "release_date_day            0\n",
       "release_date_month          0\n",
       "release_date_year           0\n",
       "release_date_dayofweek      0\n",
       "release_date_week           0\n",
       "artist_genre              684\n",
       "artist_follower_count       0\n",
       "dtype: int64"
      ]
     },
     "execution_count": 21,
     "metadata": {
      "tags": []
     },
     "output_type": "execute_result"
    }
   ],
   "source": [
    "spotify_df.isnull().sum()"
   ]
  },
  {
   "cell_type": "markdown",
   "metadata": {
    "colab_type": "text",
    "id": "6At_FqCgIR4E"
   },
   "source": [
    "Looks like the only column with null values is the artist_genre. This most likely represents artists that did not have their genre ingested in Spotify. We can fill them in with NA for now."
   ]
  },
  {
   "cell_type": "code",
   "execution_count": 22,
   "metadata": {
    "colab": {
     "base_uri": "https://localhost:8080/",
     "height": 35
    },
    "colab_type": "code",
    "executionInfo": {
     "elapsed": 457,
     "status": "ok",
     "timestamp": 1585863319772,
     "user": {
      "displayName": "Taku Takamatsu",
      "photoUrl": "https://lh3.googleusercontent.com/a-/AOh14Gi1_v2qzxfwtRstCyYb0azc-dXw4_c_QCFspd1y=s64",
      "userId": "07848600862677236277"
     },
     "user_tz": 240
    },
    "id": "0EQ0mritIR4F",
    "outputId": "53c515bf-a601-45dd-bcf3-d07430369ba6",
    "scrolled": true
   },
   "outputs": [
    {
     "data": {
      "text/plain": [
       "0"
      ]
     },
     "execution_count": 22,
     "metadata": {
      "tags": []
     },
     "output_type": "execute_result"
    }
   ],
   "source": [
    "spotify_df = spotify_df.fillna('NA')\n",
    "#check for null values again\n",
    "spotify_df.isnull().sum().sum()"
   ]
  },
  {
   "cell_type": "markdown",
   "metadata": {
    "colab_type": "text",
    "id": "PRaSITa5IR4L"
   },
   "source": [
    "#### Train/Test Split and Preprocessing Machines\n",
    "Now, we can move onto splitting our data into training and testing subsets. Essentially, we want to use the training set to build and tune our model, and use the test set as 'unseen' data that we can throw into the model at the end to evaluate our accuracy. "
   ]
  },
  {
   "cell_type": "code",
   "execution_count": 0,
   "metadata": {
    "colab": {},
    "colab_type": "code",
    "id": "UVj3sca4IR4M"
   },
   "outputs": [],
   "source": [
    "#prepare training and test sets with random state 2020 to maintain reproducability\n",
    "#we'll conduct a 80/20 split \n",
    "X = spotify_df.drop('user_group', axis=1)\n",
    "y = spotify_df['user_group']\n",
    "\n",
    "X_train, X_test, y_train, y_test = train_test_split(X, y, test_size=0.2, random_state=2020)"
   ]
  },
  {
   "cell_type": "code",
   "execution_count": 24,
   "metadata": {
    "colab": {
     "base_uri": "https://localhost:8080/",
     "height": 71
    },
    "colab_type": "code",
    "executionInfo": {
     "elapsed": 353,
     "status": "ok",
     "timestamp": 1585863325220,
     "user": {
      "displayName": "Taku Takamatsu",
      "photoUrl": "https://lh3.googleusercontent.com/a-/AOh14Gi1_v2qzxfwtRstCyYb0azc-dXw4_c_QCFspd1y=s64",
      "userId": "07848600862677236277"
     },
     "user_tz": 240
    },
    "id": "g_UN7bAxIR4T",
    "outputId": "9fad1a75-2ba3-4e41-b99c-5ed6817c816f",
    "scrolled": false
   },
   "outputs": [
    {
     "name": "stdout",
     "output_type": "stream",
     "text": [
      "Dataset Sizes:\n",
      "X_train: (34769, 24) \tX_test: (8693, 24) \n",
      "y_train:  (34769,) \ty_test: (8693,)\n"
     ]
    }
   ],
   "source": [
    "print('Dataset Sizes:\\nX_train:', X_train.shape, '\\tX_test:', X_test.shape, '\\ny_train: ', y_train.shape, '\\ty_test:', y_test.shape)"
   ]
  },
  {
   "cell_type": "code",
   "execution_count": 25,
   "metadata": {
    "colab": {
     "base_uri": "https://localhost:8080/",
     "height": 143
    },
    "colab_type": "code",
    "executionInfo": {
     "elapsed": 849,
     "status": "ok",
     "timestamp": 1585863326386,
     "user": {
      "displayName": "Taku Takamatsu",
      "photoUrl": "https://lh3.googleusercontent.com/a-/AOh14Gi1_v2qzxfwtRstCyYb0azc-dXw4_c_QCFspd1y=s64",
      "userId": "07848600862677236277"
     },
     "user_tz": 240
    },
    "id": "AxfclXGUIR4a",
    "outputId": "03f0fbee-91a3-4e8b-dd47-be07c4082344",
    "scrolled": true
   },
   "outputs": [
    {
     "name": "stdout",
     "output_type": "stream",
     "text": [
      "Train Dataset:\n",
      "Prevalence of User 1 in train: 58.96%\n",
      "Prevalence of User 2 in train: 41.04%\n",
      "\n",
      "Test Dataset:\n",
      "Prevalence of User 1 in test: 58.9%\n",
      "Prevalence of User 2 in test: 41.1%\n"
     ]
    }
   ],
   "source": [
    "#we can obverse the prevalence of our binary targets \n",
    "def calc_prevalence(y):\n",
    "    return sum(y) / len(y)\n",
    "\n",
    "user_1_prevalence = calc_prevalence(y_train.values)\n",
    "user_2_prevalence = 1 - user_1_prevalence \n",
    "\n",
    "print('Train Dataset:')\n",
    "print('Prevalence of User 1 in train: ', round(user_1_prevalence * 100, 2), '%', sep='')\n",
    "print('Prevalence of User 2 in train: ', round(user_2_prevalence * 100, 2), '%', sep='')\n",
    "\n",
    "print('\\nTest Dataset:')\n",
    "user_1_prevalence = calc_prevalence(y_test.values)\n",
    "user_2_prevalence = 1 - user_1_prevalence\n",
    "\n",
    "print('Prevalence of User 1 in test: ', round(user_1_prevalence * 100, 2), '%', sep='')\n",
    "print('Prevalence of User 2 in test: ', round(user_2_prevalence * 100, 2), '%', sep='')"
   ]
  },
  {
   "cell_type": "markdown",
   "metadata": {
    "colab_type": "text",
    "id": "Z28utQcRIR4g"
   },
   "source": [
    "Looks like the two data sets are somewhat imbalanced. We'll keep it as is for now, but should recognize it when we tune the hyper parameter."
   ]
  },
  {
   "cell_type": "code",
   "execution_count": 0,
   "metadata": {
    "colab": {},
    "colab_type": "code",
    "id": "VB_GyFBNIR4h"
   },
   "outputs": [],
   "source": [
    "#initialize the preprocessing encoders\n",
    "ore = OrdinalEncoder(cols=['key']) #ordinal values\n",
    "ohe = OneHotEncoder() #track_id, artist_id, artist_genres, mode, time_signature\n",
    "sc = StandardScaler()"
   ]
  },
  {
   "cell_type": "markdown",
   "metadata": {
    "colab_type": "text",
    "id": "u_qujh62IR4s"
   },
   "source": [
    "### Machine Learning\n",
    "We'll begin by running our data on two foundational classification techniques for supervised learning; logistic regression and random forest classification. Through cross-validation, we'll test to see which method performs most effectively on our data, and choose one to fine-tune to further improve the accuracy. First of all, a brief intro to the two techniques:\n",
    "\n",
    "#### Logistic Regression\n",
    "Logistic regression is a classification algorithm used to predict the probability of a categorical dependent variable. Extending off of linear regression (imported through sklearn's linear_model module), logistic regression essentially implements a regression curve over the sigmoid function. In the instance that the category is binary (True/False, Yes/No, etc), this would mean that the model will be an S-shaped curve.\n",
    "\n",
    "#### Random Forest Classifier\n",
    "Random Forest Classifier is an ensemble, tree-based, supervised machine learning algorithm. Essentially it combines a set of decision trees from randomly selected subsets of data, aggregating the votes to decide the final class. \n",
    "\n",
    "#### Stratified K-Fold Cross Validation\n",
    "Stratified cross validation ensures that the ratio between weights are preserved in each sample. We'll use this as the two user groups were slightly imbalanced. "
   ]
  },
  {
   "cell_type": "code",
   "execution_count": 0,
   "metadata": {
    "colab": {},
    "colab_type": "code",
    "id": "fMJ76v3zIR4t"
   },
   "outputs": [],
   "source": [
    "#initialize logistic regression and random forest classifier\n",
    "logreg = LogisticRegression(max_iter=10000,\n",
    "                           solver='liblinear',\n",
    "                            )\n",
    "rfc = RandomForestClassifier(n_estimators=100,\n",
    "                            min_samples_leaf=10\n",
    "                            )\n",
    "                             \n",
    "# create a pipeline with the preprocessing modules\n",
    "#logistic regression requires scaled data, so we'll parse StandardScaler into the pipeline\n",
    "#random forest doesn't require scaled data\n",
    "logreg_pipe = make_pipeline(ore, ohe, sc, logreg)\n",
    "rfc_pipe = make_pipeline(ore, ohe, rfc)"
   ]
  },
  {
   "cell_type": "code",
   "execution_count": 29,
   "metadata": {
    "colab": {
     "base_uri": "https://localhost:8080/",
     "height": 53
    },
    "colab_type": "code",
    "executionInfo": {
     "elapsed": 1490432,
     "status": "ok",
     "timestamp": 1585836040386,
     "user": {
      "displayName": "Taku Takamatsu",
      "photoUrl": "https://lh3.googleusercontent.com/a-/AOh14Gi1_v2qzxfwtRstCyYb0azc-dXw4_c_QCFspd1y=s64",
      "userId": "07848600862677236277"
     },
     "user_tz": 240
    },
    "id": "qGUDTGAgIR49",
    "outputId": "d3252544-ebed-43b6-db14-fac967d73bc5"
   },
   "outputs": [
    {
     "name": "stdout",
     "output_type": "stream",
     "text": [
      "Logistic Regression score: 0.8890390348840013\n",
      "Random Forest Classifier score: 0.780666549440942\n"
     ]
    }
   ],
   "source": [
    "#implement statified k-fold to target ratios during cross-validation to maintain consistencies in each sample\n",
    "kfold = StratifiedKFold(n_splits=5, shuffle=True, random_state=2020)\n",
    "\n",
    "#iterate through each algorithm and conduct cross-validation\n",
    "pipes = [('Logistic Regression', logreg_pipe), ('Random Forest Classifier', rfc_pipe)]\n",
    "for pipe in pipes:\n",
    "    scores = cross_val_score(estimator=pipe[1], X=X_train, y=y_train, cv=kfold, n_jobs=1)\n",
    "    print(pipe[0], 'score:', np.mean(scores))"
   ]
  },
  {
   "cell_type": "markdown",
   "metadata": {
    "colab_type": "text",
    "id": "S5rMzd1cIR5C"
   },
   "source": [
    "The results of cross validation suggests that Logistic Regression performs a lot better for this dataset. We can begin fine-tuning it with a Grid Search."
   ]
  },
  {
   "cell_type": "code",
   "execution_count": 0,
   "metadata": {
    "colab": {},
    "colab_type": "code",
    "id": "e6l5d4zbIR5D"
   },
   "outputs": [],
   "source": [
    "#set hyperparameters to test using grid search\n",
    "#as the classes are uneven, we should adjust the binary target to be inversely proportional to class frequencies by setting class_weight to 'balanced'\n",
    "\n",
    "params = {\n",
    "    'logisticregression__penalty' : ['l1', 'l2'], #regularization penalties to test\n",
    "    'logisticregression__C' : np.logspace(-4, 4, 9), #C value; also known as alpha \n",
    "    'logisticregression__class_weight': ['balanced']\n",
    "}\n",
    "\n",
    "#initialize the grid search \n",
    "grid_search = GridSearchCV(estimator=logreg_pipe, param_grid=params, cv=3)"
   ]
  },
  {
   "cell_type": "code",
   "execution_count": 31,
   "metadata": {
    "colab": {
     "base_uri": "https://localhost:8080/",
     "height": 503
    },
    "colab_type": "code",
    "executionInfo": {
     "elapsed": 12101395,
     "status": "ok",
     "timestamp": 1585848460382,
     "user": {
      "displayName": "Taku Takamatsu",
      "photoUrl": "https://lh3.googleusercontent.com/a-/AOh14Gi1_v2qzxfwtRstCyYb0azc-dXw4_c_QCFspd1y=s64",
      "userId": "07848600862677236277"
     },
     "user_tz": 240
    },
    "id": "wPccu9OJzXaE",
    "outputId": "79b6d7a6-9954-4387-bdb0-5d742e24d213"
   },
   "outputs": [
    {
     "data": {
      "text/plain": [
       "GridSearchCV(cv=3, error_score=nan,\n",
       "             estimator=Pipeline(memory=None,\n",
       "                                steps=[('ordinalencoder',\n",
       "                                        OrdinalEncoder(cols=['key'],\n",
       "                                                       drop_invariant=False,\n",
       "                                                       handle_missing='value',\n",
       "                                                       handle_unknown='value',\n",
       "                                                       mapping=None,\n",
       "                                                       return_df=True,\n",
       "                                                       verbose=0)),\n",
       "                                       ('onehotencoder',\n",
       "                                        OneHotEncoder(cols=None,\n",
       "                                                      drop_invariant=False,\n",
       "                                                      handle_missing='value',\n",
       "                                                      handle_unknown='value',\n",
       "                                                      return_df=True,\n",
       "                                                      us...\n",
       "                                                           verbose=0,\n",
       "                                                           warm_start=False))],\n",
       "                                verbose=False),\n",
       "             iid='deprecated', n_jobs=None,\n",
       "             param_grid={'logisticregression__C': array([1.e-04, 1.e-03, 1.e-02, 1.e-01, 1.e+00, 1.e+01, 1.e+02, 1.e+03,\n",
       "       1.e+04]),\n",
       "                         'logisticregression__class_weight': ['balanced'],\n",
       "                         'logisticregression__penalty': ['l1', 'l2']},\n",
       "             pre_dispatch='2*n_jobs', refit=True, return_train_score=False,\n",
       "             scoring=None, verbose=0)"
      ]
     },
     "execution_count": 31,
     "metadata": {
      "tags": []
     },
     "output_type": "execute_result"
    }
   ],
   "source": [
    "#fit on training set\n",
    "grid_search.fit(X_train, y_train)"
   ]
  },
  {
   "cell_type": "code",
   "execution_count": 32,
   "metadata": {
    "colab": {
     "base_uri": "https://localhost:8080/",
     "height": 71
    },
    "colab_type": "code",
    "executionInfo": {
     "elapsed": 652,
     "status": "ok",
     "timestamp": 1585850581349,
     "user": {
      "displayName": "Taku Takamatsu",
      "photoUrl": "https://lh3.googleusercontent.com/a-/AOh14Gi1_v2qzxfwtRstCyYb0azc-dXw4_c_QCFspd1y=s64",
      "userId": "07848600862677236277"
     },
     "user_tz": 240
    },
    "id": "oV98TVp5IR5P",
    "outputId": "44774457-5f85-49c5-ce9c-551f1a14b991"
   },
   "outputs": [
    {
     "data": {
      "text/plain": [
       "{'logisticregression__C': 0.001,\n",
       " 'logisticregression__class_weight': 'balanced',\n",
       " 'logisticregression__penalty': 'l2'}"
      ]
     },
     "execution_count": 32,
     "metadata": {
      "tags": []
     },
     "output_type": "execute_result"
    }
   ],
   "source": [
    "#find the best hyperparameters\n",
    "grid_search.best_params_"
   ]
  },
  {
   "cell_type": "code",
   "execution_count": 33,
   "metadata": {
    "colab": {
     "base_uri": "https://localhost:8080/",
     "height": 309
    },
    "colab_type": "code",
    "executionInfo": {
     "elapsed": 994,
     "status": "ok",
     "timestamp": 1585850609010,
     "user": {
      "displayName": "Taku Takamatsu",
      "photoUrl": "https://lh3.googleusercontent.com/a-/AOh14Gi1_v2qzxfwtRstCyYb0azc-dXw4_c_QCFspd1y=s64",
      "userId": "07848600862677236277"
     },
     "user_tz": 240
    },
    "id": "p5ZszajDIR5b",
    "outputId": "aa3b2180-30d7-420a-e24c-f8cc990e5666",
    "scrolled": false
   },
   "outputs": [
    {
     "data": {
      "text/html": [
       "<div>\n",
       "<style scoped>\n",
       "    .dataframe tbody tr th:only-of-type {\n",
       "        vertical-align: middle;\n",
       "    }\n",
       "\n",
       "    .dataframe tbody tr th {\n",
       "        vertical-align: top;\n",
       "    }\n",
       "\n",
       "    .dataframe thead th {\n",
       "        text-align: right;\n",
       "    }\n",
       "</style>\n",
       "<table border=\"1\" class=\"dataframe\">\n",
       "  <thead>\n",
       "    <tr style=\"text-align: right;\">\n",
       "      <th></th>\n",
       "      <th>mean_fit_time</th>\n",
       "      <th>std_fit_time</th>\n",
       "      <th>mean_score_time</th>\n",
       "      <th>std_score_time</th>\n",
       "      <th>param_logisticregression__C</th>\n",
       "      <th>param_logisticregression__class_weight</th>\n",
       "      <th>param_logisticregression__penalty</th>\n",
       "      <th>params</th>\n",
       "      <th>split0_test_score</th>\n",
       "      <th>split1_test_score</th>\n",
       "      <th>split2_test_score</th>\n",
       "      <th>mean_test_score</th>\n",
       "      <th>std_test_score</th>\n",
       "      <th>rank_test_score</th>\n",
       "    </tr>\n",
       "  </thead>\n",
       "  <tbody>\n",
       "    <tr>\n",
       "      <th>3</th>\n",
       "      <td>30.517449</td>\n",
       "      <td>0.163630</td>\n",
       "      <td>3.153045</td>\n",
       "      <td>0.023390</td>\n",
       "      <td>0.001</td>\n",
       "      <td>balanced</td>\n",
       "      <td>l2</td>\n",
       "      <td>{'logisticregression__C': 0.001, 'logisticregr...</td>\n",
       "      <td>0.903106</td>\n",
       "      <td>0.902847</td>\n",
       "      <td>0.900250</td>\n",
       "      <td>0.902068</td>\n",
       "      <td>0.001290</td>\n",
       "      <td>1</td>\n",
       "    </tr>\n",
       "    <tr>\n",
       "      <th>1</th>\n",
       "      <td>23.403711</td>\n",
       "      <td>0.008268</td>\n",
       "      <td>3.174707</td>\n",
       "      <td>0.023379</td>\n",
       "      <td>0.0001</td>\n",
       "      <td>balanced</td>\n",
       "      <td>l2</td>\n",
       "      <td>{'logisticregression__C': 0.0001, 'logisticreg...</td>\n",
       "      <td>0.898792</td>\n",
       "      <td>0.900086</td>\n",
       "      <td>0.901458</td>\n",
       "      <td>0.900112</td>\n",
       "      <td>0.001089</td>\n",
       "      <td>2</td>\n",
       "    </tr>\n",
       "    <tr>\n",
       "      <th>5</th>\n",
       "      <td>54.775455</td>\n",
       "      <td>0.228176</td>\n",
       "      <td>3.164989</td>\n",
       "      <td>0.048115</td>\n",
       "      <td>0.01</td>\n",
       "      <td>balanced</td>\n",
       "      <td>l2</td>\n",
       "      <td>{'logisticregression__C': 0.01, 'logisticregre...</td>\n",
       "      <td>0.900259</td>\n",
       "      <td>0.902588</td>\n",
       "      <td>0.895936</td>\n",
       "      <td>0.899594</td>\n",
       "      <td>0.002756</td>\n",
       "      <td>3</td>\n",
       "    </tr>\n",
       "    <tr>\n",
       "      <th>7</th>\n",
       "      <td>110.544996</td>\n",
       "      <td>1.762752</td>\n",
       "      <td>3.179476</td>\n",
       "      <td>0.036486</td>\n",
       "      <td>0.1</td>\n",
       "      <td>balanced</td>\n",
       "      <td>l2</td>\n",
       "      <td>{'logisticregression__C': 0.1, 'logisticregres...</td>\n",
       "      <td>0.899051</td>\n",
       "      <td>0.901639</td>\n",
       "      <td>0.894728</td>\n",
       "      <td>0.898473</td>\n",
       "      <td>0.002851</td>\n",
       "      <td>4</td>\n",
       "    </tr>\n",
       "    <tr>\n",
       "      <th>6</th>\n",
       "      <td>65.127246</td>\n",
       "      <td>8.975359</td>\n",
       "      <td>3.148901</td>\n",
       "      <td>0.030156</td>\n",
       "      <td>0.1</td>\n",
       "      <td>balanced</td>\n",
       "      <td>l1</td>\n",
       "      <td>{'logisticregression__C': 0.1, 'logisticregres...</td>\n",
       "      <td>0.898016</td>\n",
       "      <td>0.902071</td>\n",
       "      <td>0.894383</td>\n",
       "      <td>0.898156</td>\n",
       "      <td>0.003140</td>\n",
       "      <td>5</td>\n",
       "    </tr>\n",
       "  </tbody>\n",
       "</table>\n",
       "</div>"
      ],
      "text/plain": [
       "   mean_fit_time  std_fit_time  ...  std_test_score  rank_test_score\n",
       "3      30.517449      0.163630  ...        0.001290                1\n",
       "1      23.403711      0.008268  ...        0.001089                2\n",
       "5      54.775455      0.228176  ...        0.002756                3\n",
       "7     110.544996      1.762752  ...        0.002851                4\n",
       "6      65.127246      8.975359  ...        0.003140                5\n",
       "\n",
       "[5 rows x 14 columns]"
      ]
     },
     "execution_count": 33,
     "metadata": {
      "tags": []
     },
     "output_type": "execute_result"
    }
   ],
   "source": [
    "#return every single permutation to find best features\n",
    "grid_results = pd.DataFrame(grid_search.cv_results_)\n",
    "grid_results.sort_values(by='rank_test_score').head()"
   ]
  },
  {
   "cell_type": "markdown",
   "metadata": {
    "colab_type": "text",
    "id": "l9GcUWhHIR5i"
   },
   "source": [
    "The permutations of the grid_search suggests that a C-value of 0.001, on a L2 or ridge regression penalty performed most optimally, having the strongest influence on the performance of the model. We can set these identified parameters into the algorithm."
   ]
  },
  {
   "cell_type": "code",
   "execution_count": 57,
   "metadata": {
    "colab": {
     "base_uri": "https://localhost:8080/",
     "height": 629
    },
    "colab_type": "code",
    "executionInfo": {
     "elapsed": 70675,
     "status": "ok",
     "timestamp": 1585872992614,
     "user": {
      "displayName": "Taku Takamatsu",
      "photoUrl": "https://lh3.googleusercontent.com/a-/AOh14Gi1_v2qzxfwtRstCyYb0azc-dXw4_c_QCFspd1y=s64",
      "userId": "07848600862677236277"
     },
     "user_tz": 240
    },
    "id": "kAQRTXVfIR5m",
    "outputId": "c69dbcaa-7a14-4268-9167-d2f382210a39"
   },
   "outputs": [
    {
     "data": {
      "text/plain": [
       "Pipeline(memory=None,\n",
       "         steps=[('ordinalencoder',\n",
       "                 OrdinalEncoder(cols=['key'], drop_invariant=False,\n",
       "                                handle_missing='value', handle_unknown='value',\n",
       "                                mapping=[{'col': 'key', 'data_type': dtype('O'),\n",
       "                                          'mapping': 1       1\n",
       "3       2\n",
       "8       3\n",
       "2       4\n",
       "9       5\n",
       "4       6\n",
       "0       7\n",
       "6       8\n",
       "5       9\n",
       "11     10\n",
       "7      11\n",
       "10     12\n",
       "NaN    -2\n",
       "dtype: int64}],\n",
       "                                return_df=True, verbose=0)),\n",
       "                ('onehotencoder',\n",
       "                 OneHotEncoder(cols=['track_id', 'artist_id', 'album_type',\n",
       "                                     'mode'...\n",
       "                ('standardscaler',\n",
       "                 StandardScaler(copy=True, with_mean=True, with_std=True)),\n",
       "                ('logisticregression',\n",
       "                 LogisticRegression(C=0.001, class_weight='balanced',\n",
       "                                    dual=False, fit_intercept=True,\n",
       "                                    intercept_scaling=1, l1_ratio=None,\n",
       "                                    max_iter=10000, multi_class='auto',\n",
       "                                    n_jobs=None, penalty='l2',\n",
       "                                    random_state=None, solver='liblinear',\n",
       "                                    tol=0.0001, verbose=0, warm_start=False))],\n",
       "         verbose=False)"
      ]
     },
     "execution_count": 57,
     "metadata": {
      "tags": []
     },
     "output_type": "execute_result"
    }
   ],
   "source": [
    "#we'll update the pipeline and fit on the training set\n",
    "logreg_pipe.steps[-1][1].set_params(\n",
    "                            C=0.001,\n",
    "                            class_weight='balanced',\n",
    "                            penalty='l2'\n",
    "                            )\n",
    "logreg_pipe.fit(X_train, y_train)"
   ]
  },
  {
   "cell_type": "markdown",
   "metadata": {
    "colab_type": "text",
    "id": "yjB91UB1IR5r"
   },
   "source": [
    "#### Scoring -- Logistic Regression\n",
    "Once we've fitted the training dataset, we can see how our model performed on the test set (unseen data)."
   ]
  },
  {
   "cell_type": "code",
   "execution_count": 58,
   "metadata": {
    "colab": {
     "base_uri": "https://localhost:8080/",
     "height": 729
    },
    "colab_type": "code",
    "executionInfo": {
     "elapsed": 71495,
     "status": "ok",
     "timestamp": 1585872996645,
     "user": {
      "displayName": "Taku Takamatsu",
      "photoUrl": "https://lh3.googleusercontent.com/a-/AOh14Gi1_v2qzxfwtRstCyYb0azc-dXw4_c_QCFspd1y=s64",
      "userId": "07848600862677236277"
     },
     "user_tz": 240
    },
    "id": "93aqgzyiIR5w",
    "outputId": "3cdfc7dd-0a36-4067-f942-5b7c0b5d8c31"
   },
   "outputs": [
    {
     "name": "stdout",
     "output_type": "stream",
     "text": [
      "Accuracy 0.9025652824111354 \n",
      "\n",
      "Classification Report:\n",
      "               precision    recall  f1-score   support\n",
      "\n",
      "      User 2       0.83      0.96      0.89      3573\n",
      "      User 1       0.97      0.86      0.91      5120\n",
      "\n",
      "    accuracy                           0.90      8693\n",
      "   macro avg       0.90      0.91      0.90      8693\n",
      "weighted avg       0.91      0.90      0.90      8693\n",
      "\n"
     ]
    },
    {
     "data": {
      "image/png": "[encoded data removed]",
      "text/plain": [
       "<Figure size 864x576 with 2 Axes>"
      ]
     },
     "metadata": {
      "tags": []
     },
     "output_type": "display_data"
    }
   ],
   "source": [
    "prediction = logreg_pipe.predict(X_test)\n",
    "\n",
    "#Confusion Matrix\n",
    "c_matrix = confusion_matrix(y_test, prediction)\n",
    "plt.figure(figsize=(12, 8))\n",
    "sns.heatmap(pd.DataFrame(c_matrix), annot=True, fmt='g',  cmap='GnBu', linewidths=1).set_ylim([0,2])\n",
    "plt.title('Confusion Matrix')\n",
    "plt.ylabel('Actual Label')\n",
    "plt. xlabel('Predicted Label');\n",
    "\n",
    "#Evaluation Metrics\n",
    "print('Accuracy', accuracy_score(y_test, prediction), '\\n')\n",
    "print('Classification Report:\\n', classification_report(y_test, prediction, target_names=['User 2', 'User 1']))\n"
   ]
  },
  {
   "cell_type": "code",
   "execution_count": 59,
   "metadata": {
    "colab": {
     "base_uri": "https://localhost:8080/",
     "height": 53
    },
    "colab_type": "code",
    "executionInfo": {
     "elapsed": 41621,
     "status": "ok",
     "timestamp": 1585873013769,
     "user": {
      "displayName": "Taku Takamatsu",
      "photoUrl": "https://lh3.googleusercontent.com/a-/AOh14Gi1_v2qzxfwtRstCyYb0azc-dXw4_c_QCFspd1y=s64",
      "userId": "07848600862677236277"
     },
     "user_tz": 240
    },
    "id": "zkizZ767IR51",
    "outputId": "f7fac02b-df85-4acd-94d7-f0e96f101e22",
    "scrolled": true
   },
   "outputs": [
    {
     "name": "stdout",
     "output_type": "stream",
     "text": [
      "Test set accuracy: 0.9025652824111354\n",
      "Training set accuracy: 0.917052546808939\n"
     ]
    }
   ],
   "source": [
    "#we can compare the accuracy on the test set with the training set\n",
    "print('Test set accuracy:', logreg_pipe.score(X_test, y_test))\n",
    "print('Training set accuracy:', logreg_pipe.score(X_train, y_train))"
   ]
  },
  {
   "cell_type": "markdown",
   "metadata": {
    "colab_type": "text",
    "id": "IRQrvn4sIR6J"
   },
   "source": [
    "On unseen data, our model was able to predict an output with an accuracy of 0.90. The confusion matrix shows that most of the errors occurred when the model predicted a 0 (User 2) when in fact, the song was in 1 (User 1)'s playlist. Nonetheless, an accurracy of 0.90 is quite good. We can still try and fine-tune it further. "
   ]
  },
  {
   "cell_type": "markdown",
   "metadata": {
    "colab_type": "text",
    "id": "8zqArhqGIR6K"
   },
   "source": [
    "### Tuning the Model\n",
    "\n"
   ]
  },
  {
   "cell_type": "markdown",
   "metadata": {
    "colab_type": "text",
    "id": "sbLxB6DXIR6L"
   },
   "source": [
    "Perhaps, the imbalance in datasets, where User 2 accounted for around 40% of the entire dataset, may have been the cause of the errors. We could try to balance out the data so that the sample sizes are the same. \n",
    "\n",
    "Through some research, sklearn's resample method could be worth trying out.\n",
    "https://towardsdatascience.com/methods-for-dealing-with-imbalanced-data-5b761be45a18"
   ]
  },
  {
   "cell_type": "code",
   "execution_count": 44,
   "metadata": {
    "colab": {
     "base_uri": "https://localhost:8080/",
     "height": 242
    },
    "colab_type": "code",
    "executionInfo": {
     "elapsed": 1305,
     "status": "ok",
     "timestamp": 1585870439489,
     "user": {
      "displayName": "Taku Takamatsu",
      "photoUrl": "https://lh3.googleusercontent.com/a-/AOh14Gi1_v2qzxfwtRstCyYb0azc-dXw4_c_QCFspd1y=s64",
      "userId": "07848600862677236277"
     },
     "user_tz": 240
    },
    "id": "TBnso3A-IR6M",
    "outputId": "b1a1a2e0-e8a9-4157-8279-41e2480f1525"
   },
   "outputs": [
    {
     "name": "stdout",
     "output_type": "stream",
     "text": [
      "Initial training size: (34769, 25)\n"
     ]
    },
    {
     "data": {
      "text/html": [
       "<div>\n",
       "<style scoped>\n",
       "    .dataframe tbody tr th:only-of-type {\n",
       "        vertical-align: middle;\n",
       "    }\n",
       "\n",
       "    .dataframe tbody tr th {\n",
       "        vertical-align: top;\n",
       "    }\n",
       "\n",
       "    .dataframe thead th {\n",
       "        text-align: right;\n",
       "    }\n",
       "</style>\n",
       "<table border=\"1\" class=\"dataframe\">\n",
       "  <thead>\n",
       "    <tr style=\"text-align: right;\">\n",
       "      <th></th>\n",
       "      <th>track_id</th>\n",
       "      <th>artist_id</th>\n",
       "      <th>album_type</th>\n",
       "      <th>popularity</th>\n",
       "      <th>danceability</th>\n",
       "      <th>energy</th>\n",
       "      <th>key</th>\n",
       "      <th>loudness</th>\n",
       "      <th>mode</th>\n",
       "      <th>speechiness</th>\n",
       "      <th>acousticness</th>\n",
       "      <th>instrumentalness</th>\n",
       "      <th>liveness</th>\n",
       "      <th>valence</th>\n",
       "      <th>tempo</th>\n",
       "      <th>duration_ms</th>\n",
       "      <th>time_signature</th>\n",
       "      <th>release_date_day</th>\n",
       "      <th>release_date_month</th>\n",
       "      <th>release_date_year</th>\n",
       "      <th>release_date_dayofweek</th>\n",
       "      <th>release_date_week</th>\n",
       "      <th>artist_genre</th>\n",
       "      <th>artist_follower_count</th>\n",
       "      <th>user_group</th>\n",
       "    </tr>\n",
       "  </thead>\n",
       "  <tbody>\n",
       "    <tr>\n",
       "      <th>4912</th>\n",
       "      <td>4w7yrP4RAeeyhfG9nJqQvS</td>\n",
       "      <td>0c173mlxpT3dSFRgMO8XPh</td>\n",
       "      <td>album</td>\n",
       "      <td>5</td>\n",
       "      <td>0.823</td>\n",
       "      <td>0.733</td>\n",
       "      <td>1</td>\n",
       "      <td>-5.474</td>\n",
       "      <td>Major</td>\n",
       "      <td>0.0628</td>\n",
       "      <td>0.0349</td>\n",
       "      <td>0.00000</td>\n",
       "      <td>0.324</td>\n",
       "      <td>0.397</td>\n",
       "      <td>97.972</td>\n",
       "      <td>284387</td>\n",
       "      <td>4</td>\n",
       "      <td>23</td>\n",
       "      <td>2</td>\n",
       "      <td>2015</td>\n",
       "      <td>0</td>\n",
       "      <td>9</td>\n",
       "      <td>hip hop</td>\n",
       "      <td>7197345</td>\n",
       "      <td>1</td>\n",
       "    </tr>\n",
       "    <tr>\n",
       "      <th>2002</th>\n",
       "      <td>3cUfX4o0hLjcApgdWIHWkl</td>\n",
       "      <td>4zYX8Aa744hQ5O2hpAYQI3</td>\n",
       "      <td>single</td>\n",
       "      <td>19</td>\n",
       "      <td>0.636</td>\n",
       "      <td>0.909</td>\n",
       "      <td>3</td>\n",
       "      <td>-4.245</td>\n",
       "      <td>Minor</td>\n",
       "      <td>0.1200</td>\n",
       "      <td>0.0362</td>\n",
       "      <td>0.85700</td>\n",
       "      <td>0.109</td>\n",
       "      <td>0.181</td>\n",
       "      <td>149.969</td>\n",
       "      <td>195900</td>\n",
       "      <td>4</td>\n",
       "      <td>8</td>\n",
       "      <td>2</td>\n",
       "      <td>2016</td>\n",
       "      <td>0</td>\n",
       "      <td>6</td>\n",
       "      <td>electronic trap</td>\n",
       "      <td>35539</td>\n",
       "      <td>1</td>\n",
       "    </tr>\n",
       "    <tr>\n",
       "      <th>4513</th>\n",
       "      <td>5wUUWVRvrciJqFitZF8R0P</td>\n",
       "      <td>3TVXtAsR1Inumwj472S9r4</td>\n",
       "      <td>album</td>\n",
       "      <td>66</td>\n",
       "      <td>0.643</td>\n",
       "      <td>0.541</td>\n",
       "      <td>2</td>\n",
       "      <td>-5.801</td>\n",
       "      <td>Major</td>\n",
       "      <td>0.0426</td>\n",
       "      <td>0.0102</td>\n",
       "      <td>0.00000</td>\n",
       "      <td>0.102</td>\n",
       "      <td>0.165</td>\n",
       "      <td>119.499</td>\n",
       "      <td>311197</td>\n",
       "      <td>4</td>\n",
       "      <td>29</td>\n",
       "      <td>7</td>\n",
       "      <td>2014</td>\n",
       "      <td>1</td>\n",
       "      <td>31</td>\n",
       "      <td>toronto rap</td>\n",
       "      <td>45646939</td>\n",
       "      <td>1</td>\n",
       "    </tr>\n",
       "    <tr>\n",
       "      <th>2345</th>\n",
       "      <td>0ZGkJlkTO2tqn6nRC3PSFj</td>\n",
       "      <td>1vo8zHmO1KzkuU9Xxh6J7W</td>\n",
       "      <td>single</td>\n",
       "      <td>2</td>\n",
       "      <td>0.514</td>\n",
       "      <td>0.862</td>\n",
       "      <td>0</td>\n",
       "      <td>-6.329</td>\n",
       "      <td>Minor</td>\n",
       "      <td>0.1560</td>\n",
       "      <td>0.0319</td>\n",
       "      <td>0.17100</td>\n",
       "      <td>0.119</td>\n",
       "      <td>0.501</td>\n",
       "      <td>126.112</td>\n",
       "      <td>184762</td>\n",
       "      <td>4</td>\n",
       "      <td>2</td>\n",
       "      <td>12</td>\n",
       "      <td>2016</td>\n",
       "      <td>4</td>\n",
       "      <td>48</td>\n",
       "      <td>big room</td>\n",
       "      <td>197384</td>\n",
       "      <td>1</td>\n",
       "    </tr>\n",
       "    <tr>\n",
       "      <th>2929</th>\n",
       "      <td>7HdZY9UJTylIiNcSDFyUDc</td>\n",
       "      <td>738wLrAtLtCtFOLvQBXOXp</td>\n",
       "      <td>single</td>\n",
       "      <td>60</td>\n",
       "      <td>0.747</td>\n",
       "      <td>0.641</td>\n",
       "      <td>1</td>\n",
       "      <td>-4.502</td>\n",
       "      <td>Major</td>\n",
       "      <td>0.0925</td>\n",
       "      <td>0.2500</td>\n",
       "      <td>0.00107</td>\n",
       "      <td>0.106</td>\n",
       "      <td>0.453</td>\n",
       "      <td>100.028</td>\n",
       "      <td>186231</td>\n",
       "      <td>4</td>\n",
       "      <td>16</td>\n",
       "      <td>1</td>\n",
       "      <td>2018</td>\n",
       "      <td>1</td>\n",
       "      <td>3</td>\n",
       "      <td>tropical house</td>\n",
       "      <td>5986789</td>\n",
       "      <td>1</td>\n",
       "    </tr>\n",
       "  </tbody>\n",
       "</table>\n",
       "</div>"
      ],
      "text/plain": [
       "                    track_id  ... user_group\n",
       "4912  4w7yrP4RAeeyhfG9nJqQvS  ...          1\n",
       "2002  3cUfX4o0hLjcApgdWIHWkl  ...          1\n",
       "4513  5wUUWVRvrciJqFitZF8R0P  ...          1\n",
       "2345  0ZGkJlkTO2tqn6nRC3PSFj  ...          1\n",
       "2929  7HdZY9UJTylIiNcSDFyUDc  ...          1\n",
       "\n",
       "[5 rows x 25 columns]"
      ]
     },
     "execution_count": 44,
     "metadata": {
      "tags": []
     },
     "output_type": "execute_result"
    }
   ],
   "source": [
    "#combine training X and y\n",
    "train_df = pd.concat([X_train, y_train], axis=1)\n",
    "\n",
    "print('Initial training size:', train_df.shape)\n",
    "\n",
    "user_1_train = train_df[train_df['user_group'] == 1]\n",
    "user_2_train = train_df[train_df['user_group'] == 0]\n",
    "\n",
    "#upsample the minority class --> User 2 group\n",
    "user_2_upsampled = resample(user_2_train,\n",
    "                           replace=True,\n",
    "                           n_samples=len(user_1_train),\n",
    "                           random_state=2020)\n",
    "#undersample the majority class --> user 1\n",
    "user_1_undersampled = resample(user_1_train,\n",
    "                              replace=True,\n",
    "                              n_samples=len(user_2_train),\n",
    "                              random_state=2020)\n",
    "\n",
    "#create new dataset with resampled dataset\n",
    "upsampled_train = pd.concat([user_1_train, user_2_upsampled], sort=False)\n",
    "upsampled_train.head()"
   ]
  },
  {
   "cell_type": "code",
   "execution_count": 45,
   "metadata": {
    "colab": {
     "base_uri": "https://localhost:8080/",
     "height": 35
    },
    "colab_type": "code",
    "executionInfo": {
     "elapsed": 490,
     "status": "ok",
     "timestamp": 1585870440571,
     "user": {
      "displayName": "Taku Takamatsu",
      "photoUrl": "https://lh3.googleusercontent.com/a-/AOh14Gi1_v2qzxfwtRstCyYb0azc-dXw4_c_QCFspd1y=s64",
      "userId": "07848600862677236277"
     },
     "user_tz": 240
    },
    "id": "-RXdp1bXIR6R",
    "outputId": "95609932-2483-431f-9e11-a71a4cb76100"
   },
   "outputs": [
    {
     "name": "stdout",
     "output_type": "stream",
     "text": [
      "Resampled training size: (41002, 25)\n"
     ]
    }
   ],
   "source": [
    "#check the resampled training size\n",
    "print('Resampled training size:', upsampled_train.shape)"
   ]
  },
  {
   "cell_type": "code",
   "execution_count": 46,
   "metadata": {
    "colab": {
     "base_uri": "https://localhost:8080/",
     "height": 71
    },
    "colab_type": "code",
    "executionInfo": {
     "elapsed": 708,
     "status": "ok",
     "timestamp": 1585870441427,
     "user": {
      "displayName": "Taku Takamatsu",
      "photoUrl": "https://lh3.googleusercontent.com/a-/AOh14Gi1_v2qzxfwtRstCyYb0azc-dXw4_c_QCFspd1y=s64",
      "userId": "07848600862677236277"
     },
     "user_tz": 240
    },
    "id": "BSsiqUSrIR6X",
    "outputId": "c9b0cedd-5d3f-4b24-9d28-cd560ed7701c",
    "scrolled": true
   },
   "outputs": [
    {
     "name": "stdout",
     "output_type": "stream",
     "text": [
      "Train Dataset:\n",
      "Prevalence of User 1 in train: 50.0%\n",
      "Prevalence of User 2 in train: 50.0%\n"
     ]
    }
   ],
   "source": [
    "#split the datasets and run it through the model\n",
    "X_train_up = upsampled_train.drop('user_group', axis=1)\n",
    "y_train_up = upsampled_train['user_group']\n",
    "\n",
    "user_1_prevalence = calc_prevalence(y_train_up.values)\n",
    "user_2_prevalence = 1 - user_1_prevalence \n",
    "\n",
    "print('Train Dataset:')\n",
    "print('Prevalence of User 1 in train: ', round(user_1_prevalence * 100, 2), '%', sep='')\n",
    "print('Prevalence of User 2 in train: ', round(user_2_prevalence * 100, 2), '%', sep='')"
   ]
  },
  {
   "cell_type": "markdown",
   "metadata": {
    "colab_type": "text",
    "id": "Fl-ydpXHIR6b"
   },
   "source": [
    "Now, our sample sizes are all equal."
   ]
  },
  {
   "cell_type": "code",
   "execution_count": 60,
   "metadata": {
    "colab": {
     "base_uri": "https://localhost:8080/",
     "height": 629
    },
    "colab_type": "code",
    "executionInfo": {
     "elapsed": 113547,
     "status": "ok",
     "timestamp": 1585873093135,
     "user": {
      "displayName": "Taku Takamatsu",
      "photoUrl": "https://lh3.googleusercontent.com/a-/AOh14Gi1_v2qzxfwtRstCyYb0azc-dXw4_c_QCFspd1y=s64",
      "userId": "07848600862677236277"
     },
     "user_tz": 240
    },
    "id": "h3H-h-5yIR6c",
    "outputId": "cd6df910-e93a-45cf-c9c4-c3ee30550dc8"
   },
   "outputs": [
    {
     "data": {
      "text/plain": [
       "Pipeline(memory=None,\n",
       "         steps=[('ordinalencoder',\n",
       "                 OrdinalEncoder(cols=['key'], drop_invariant=False,\n",
       "                                handle_missing='value', handle_unknown='value',\n",
       "                                mapping=[{'col': 'key', 'data_type': dtype('O'),\n",
       "                                          'mapping': 1       1\n",
       "3       2\n",
       "8       3\n",
       "2       4\n",
       "9       5\n",
       "4       6\n",
       "0       7\n",
       "6       8\n",
       "5       9\n",
       "11     10\n",
       "7      11\n",
       "10     12\n",
       "NaN    -2\n",
       "dtype: int64}],\n",
       "                                return_df=True, verbose=0)),\n",
       "                ('onehotencoder',\n",
       "                 OneHotEncoder(cols=['track_id', 'artist_id', 'album_type',\n",
       "                                     'mode'...\n",
       "                ('standardscaler',\n",
       "                 StandardScaler(copy=True, with_mean=True, with_std=True)),\n",
       "                ('logisticregression',\n",
       "                 LogisticRegression(C=0.001, class_weight='balanced',\n",
       "                                    dual=False, fit_intercept=True,\n",
       "                                    intercept_scaling=1, l1_ratio=None,\n",
       "                                    max_iter=10000, multi_class='auto',\n",
       "                                    n_jobs=None, penalty='l2',\n",
       "                                    random_state=None, solver='liblinear',\n",
       "                                    tol=0.0001, verbose=0, warm_start=False))],\n",
       "         verbose=False)"
      ]
     },
     "execution_count": 60,
     "metadata": {
      "tags": []
     },
     "output_type": "execute_result"
    }
   ],
   "source": [
    "#fit on the Logistic Regression pipeline \n",
    "logreg_pipe.fit(X_train_up, y_train_up)"
   ]
  },
  {
   "cell_type": "code",
   "execution_count": 61,
   "metadata": {
    "colab": {
     "base_uri": "https://localhost:8080/",
     "height": 729
    },
    "colab_type": "code",
    "executionInfo": {
     "elapsed": 116780,
     "status": "ok",
     "timestamp": 1585873097405,
     "user": {
      "displayName": "Taku Takamatsu",
      "photoUrl": "https://lh3.googleusercontent.com/a-/AOh14Gi1_v2qzxfwtRstCyYb0azc-dXw4_c_QCFspd1y=s64",
      "userId": "07848600862677236277"
     },
     "user_tz": 240
    },
    "id": "85MODFZTIR6g",
    "outputId": "a99c7b51-4e01-41cf-9b42-f370acbc902c",
    "scrolled": false
   },
   "outputs": [
    {
     "name": "stdout",
     "output_type": "stream",
     "text": [
      "Accuracy 0.9023352122397331 \n",
      "\n",
      "Classification Report:\n",
      "               precision    recall  f1-score   support\n",
      "\n",
      "      User 2       0.84      0.94      0.89      3573\n",
      "      User 1       0.95      0.88      0.91      5120\n",
      "\n",
      "    accuracy                           0.90      8693\n",
      "   macro avg       0.90      0.91      0.90      8693\n",
      "weighted avg       0.91      0.90      0.90      8693\n",
      "\n"
     ]
    },
    {
     "data": {
      "image/png": "[encoded data removed]",
      "text/plain": [
       "<Figure size 864x576 with 2 Axes>"
      ]
     },
     "metadata": {
      "tags": []
     },
     "output_type": "display_data"
    }
   ],
   "source": [
    "#Scoring:\n",
    "prediction = logreg_pipe.predict(X_test)\n",
    "\n",
    "#Confusion Matrix\n",
    "c_matrix = confusion_matrix(y_test, prediction)\n",
    "plt.figure(figsize=(12, 8))\n",
    "sns.heatmap(pd.DataFrame(c_matrix), annot=True, fmt='g',  cmap='GnBu', linewidths=1).set_ylim([0,2])\n",
    "plt.title('Confusion Matrix')\n",
    "plt.ylabel('Actual Label')\n",
    "plt. xlabel('Predicted Label');\n",
    "\n",
    "#Evaluation Metrics\n",
    "print('Accuracy', accuracy_score(y_test, prediction), '\\n')\n",
    "print('Classification Report:\\n', classification_report(y_test, prediction, target_names=['User 2', 'User 1']))"
   ]
  },
  {
   "cell_type": "markdown",
   "metadata": {
    "colab_type": "text",
    "id": "v-GTsRwrIR6r"
   },
   "source": [
    "Looks like our score improved, but very slightly. "
   ]
  },
  {
   "cell_type": "markdown",
   "metadata": {
    "colab_type": "text",
    "id": "CtM_HO-_IR6r"
   },
   "source": [
    "#### Principle Component Analysis (PCA)\n",
    "PCA is a method of dimensionality reduction often used to reduce the number of variables whilst keeping important features. We do this by setting a limit of how much explained variance should be visible in our data. As we're performing one-hot-encoding on the artist_name and artist genre, this would reduce the dimentions of our dataset before we run our estimator at the end of the pipeline. PCA is commonly considered a good way to decrease the chance of overfitting. \n",
    "\n",
    "We could try to incorporate PCA into the pipeline to further improve the accuracy of our model."
   ]
  },
  {
   "cell_type": "code",
   "execution_count": 0,
   "metadata": {
    "colab": {},
    "colab_type": "code",
    "id": "EZqKpOa3NjzC"
   },
   "outputs": [],
   "source": [
    "#initialize PCA with a 90% explained variance\n",
    "pca = PCA(n_components=0.90)\n",
    "\n",
    "#parse it into the pipeline\n",
    "logreg_pipe_2 = make_pipeline(ore, ohe, sc, pca, LogisticRegression(C=0.001, \n",
    "    penalty='l2', class_weight='balanced', solver='liblinear'))"
   ]
  },
  {
   "cell_type": "code",
   "execution_count": 54,
   "metadata": {
    "colab": {
     "base_uri": "https://localhost:8080/",
     "height": 647
    },
    "colab_type": "code",
    "executionInfo": {
     "elapsed": 360316,
     "status": "ok",
     "timestamp": 1585872169061,
     "user": {
      "displayName": "Taku Takamatsu",
      "photoUrl": "https://lh3.googleusercontent.com/a-/AOh14Gi1_v2qzxfwtRstCyYb0azc-dXw4_c_QCFspd1y=s64",
      "userId": "07848600862677236277"
     },
     "user_tz": 240
    },
    "id": "__jARiv0Hu0V",
    "outputId": "922d2a0b-d1ac-48bb-c767-5654c5339230"
   },
   "outputs": [
    {
     "data": {
      "text/plain": [
       "Pipeline(memory=None,\n",
       "         steps=[('ordinalencoder',\n",
       "                 OrdinalEncoder(cols=['key'], drop_invariant=False,\n",
       "                                handle_missing='value', handle_unknown='value',\n",
       "                                mapping=[{'col': 'key', 'data_type': dtype('O'),\n",
       "                                          'mapping': 1       1\n",
       "3       2\n",
       "8       3\n",
       "2       4\n",
       "9       5\n",
       "4       6\n",
       "0       7\n",
       "6       8\n",
       "5       9\n",
       "11     10\n",
       "7      11\n",
       "10     12\n",
       "NaN    -2\n",
       "dtype: int64}],\n",
       "                                return_df=True, verbose=0)),\n",
       "                ('onehotencoder',\n",
       "                 OneHotEncoder(cols=['track_id', 'artist_id', 'album_type',\n",
       "                                     'mode'...\n",
       "                 PCA(copy=True, iterated_power='auto', n_components=0.9,\n",
       "                     random_state=None, svd_solver='auto', tol=0.0,\n",
       "                     whiten=False)),\n",
       "                ('logisticregression',\n",
       "                 LogisticRegression(C=0.001, class_weight='balanced',\n",
       "                                    dual=False, fit_intercept=True,\n",
       "                                    intercept_scaling=1, l1_ratio=None,\n",
       "                                    max_iter=100, multi_class='auto',\n",
       "                                    n_jobs=None, penalty='l2',\n",
       "                                    random_state=None, solver='liblinear',\n",
       "                                    tol=0.0001, verbose=0, warm_start=False))],\n",
       "         verbose=False)"
      ]
     },
     "execution_count": 54,
     "metadata": {
      "tags": []
     },
     "output_type": "execute_result"
    }
   ],
   "source": [
    "#fit the new pipeline on the upsampled training data - as it performed slightly better than the original pipeline\n",
    "logreg_pipe_2.fit(X_train_up, y_train_up)"
   ]
  },
  {
   "cell_type": "code",
   "execution_count": 62,
   "metadata": {
    "colab": {
     "base_uri": "https://localhost:8080/",
     "height": 729
    },
    "colab_type": "code",
    "executionInfo": {
     "elapsed": 119040,
     "status": "ok",
     "timestamp": 1585873108908,
     "user": {
      "displayName": "Taku Takamatsu",
      "photoUrl": "https://lh3.googleusercontent.com/a-/AOh14Gi1_v2qzxfwtRstCyYb0azc-dXw4_c_QCFspd1y=s64",
      "userId": "07848600862677236277"
     },
     "user_tz": 240
    },
    "id": "doFGbLwJJFGp",
    "outputId": "a3931f42-a5f2-4909-b96c-fbf0475ab1f5"
   },
   "outputs": [
    {
     "name": "stdout",
     "output_type": "stream",
     "text": [
      "Accuracy 0.9070516507534798 \n",
      "\n",
      "Classification Report:\n",
      "               precision    recall  f1-score   support\n",
      "\n",
      "      User 2       0.86      0.93      0.89      3573\n",
      "      User 1       0.95      0.89      0.92      5120\n",
      "\n",
      "    accuracy                           0.91      8693\n",
      "   macro avg       0.90      0.91      0.91      8693\n",
      "weighted avg       0.91      0.91      0.91      8693\n",
      "\n"
     ]
    },
    {
     "data": {
      "image/png": "[encoded data removed]",
      "text/plain": [
       "<Figure size 864x576 with 2 Axes>"
      ]
     },
     "metadata": {
      "tags": []
     },
     "output_type": "display_data"
    }
   ],
   "source": [
    "#Scoring:\n",
    "prediction = logreg_pipe_2.predict(X_test)\n",
    "\n",
    "#Confusion Matrix\n",
    "c_matrix = confusion_matrix(y_test, prediction)\n",
    "plt.figure(figsize=(12, 8))\n",
    "sns.heatmap(pd.DataFrame(c_matrix), annot=True, fmt='g',  cmap='GnBu', linewidths=1).set_ylim([0,2])\n",
    "plt.title('Confusion Matrix')\n",
    "plt.ylabel('Actual Label')\n",
    "plt. xlabel('Predicted Label');\n",
    "\n",
    "#Evaluation Metrics\n",
    "print('Accuracy', accuracy_score(y_test, prediction), '\\n')\n",
    "print('Classification Report:\\n', classification_report(y_test, prediction, target_names=['User 2', 'User 1']))"
   ]
  },
  {
   "cell_type": "markdown",
   "metadata": {
    "colab_type": "text",
    "id": "8iEyhzxzS2Gg"
   },
   "source": [
    "Our training our model on 90% explained variance resulted in a higher accuracy score with PCA. This suggests that reducing the dimentionality of the data helps. \n",
    "\n",
    "Although slightly, theres a decrease in the False Psitives; where the model predicted the track to be classified as 0 (User 2), when in fact, was 1 (User 1). \n",
    "\n",
    "If time permits, we could consider utilizing gridsearch to find the optimal PCA... maybe next time."
   ]
  },
  {
   "cell_type": "markdown",
   "metadata": {
    "colab_type": "text",
    "id": "ooZDxC2ZNn_z"
   },
   "source": [
    "#### Evaluation \n",
    "Evaluating this model; we were able to produce an accuracy score of 0.907. The confusion matrix explains that User 1 had a higher probability of predicting True Positives, suggesting that the model was able to learn his/her music taste more precisely - a precision score of 0.95. \n",
    "\n",
    "With more time, we could have investigated other popular algorithms used for classification, such as Support Vector Machine and Nearest Neighbors. Another important insight to point out is that there were around 270 tracks that were in both playlists. This possibly influenced the dependent variable. We could have possibly tackled this by taking into consideration the common tracks - either dropping it from the data, or creating a new target variable to transform the algorithm into multi-classification."
   ]
  },
  {
   "cell_type": "markdown",
   "metadata": {
    "colab_type": "text",
    "id": "48u-U1GIIR7D"
   },
   "source": [
    "### Pickle \n",
    "For now, let's pickle the pipeline to maintain reproducability. "
   ]
  },
  {
   "cell_type": "code",
   "execution_count": 0,
   "metadata": {
    "colab": {},
    "colab_type": "code",
    "id": "pRul-YhmIR7E"
   },
   "outputs": [],
   "source": [
    "with open('spotify.pkl', 'wb') as file:\n",
    "    pickle.dump(logreg_pipe_2, file)"
   ]
  }
 ],
 "metadata": {
  "colab": {
   "collapsed_sections": [],
   "machine_shape": "hm",
   "name": "DAT_HW4 Modeling (Part 3).ipynb",
   "provenance": []
  },
  "kernelspec": {
   "display_name": "Python 3",
   "language": "python",
   "name": "python3"
  },
  "language_info": {
   "codemirror_mode": {
    "name": "ipython",
    "version": 3
   },
   "file_extension": ".py",
   "mimetype": "text/x-python",
   "name": "python",
   "nbconvert_exporter": "python",
   "pygments_lexer": "ipython3",
   "version": "3.7.4"
  }
 },
 "nbformat": 4,
 "nbformat_minor": 1
}
